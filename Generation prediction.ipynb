{
 "cells": [
  {
   "cell_type": "code",
   "execution_count": 1626,
   "metadata": {},
   "outputs": [],
   "source": [
    "import pandas as pd\n",
    "from sklearn import linear_model\n",
    "import sklearn\n",
    "import numpy as np\n",
    "import matplotlib.patches as mpatches\n",
    "import plotly.express as px\n",
    "import plotly.graph_objects as go\n",
    "import seaborn as sns"
   ]
  },
  {
   "cell_type": "code",
   "execution_count": 1703,
   "metadata": {},
   "outputs": [],
   "source": [
    "from sklearn.model_selection import cross_val_score, cross_validate"
   ]
  },
  {
   "cell_type": "markdown",
   "metadata": {},
   "source": [
    "# We have 2 variants how to choose data set\n",
    "- dont use import as feature and extract it from estimated value of generation\n",
    "- select import as feature and check ourselves: if import coefficient is ~1 then model is appropriate"
   ]
  },
  {
   "cell_type": "code",
   "execution_count": 1704,
   "metadata": {},
   "outputs": [],
   "source": [
    "#extract data with import\n",
    "x = pd.read_excel('generation_features.xlsx', sheet_name = 'x_import') \n",
    "y = pd.read_excel('generation.xlsx', sheet_name = 'full_generation')"
   ]
  },
  {
   "cell_type": "code",
   "execution_count": 1705,
   "metadata": {},
   "outputs": [],
   "source": [
    "#extract data without import\n",
    "#x = pd.read_excel('generation_features.xlsx', sheet_name = 'x_gen') \n",
    "#y = pd.read_excel('generation.xlsx', sheet_name = 'generation_without_import')"
   ]
  },
  {
   "cell_type": "code",
   "execution_count": 1706,
   "metadata": {},
   "outputs": [
    {
     "data": {
      "text/html": [
       "<div>\n",
       "<style scoped>\n",
       "    .dataframe tbody tr th:only-of-type {\n",
       "        vertical-align: middle;\n",
       "    }\n",
       "\n",
       "    .dataframe tbody tr th {\n",
       "        vertical-align: top;\n",
       "    }\n",
       "\n",
       "    .dataframe thead th {\n",
       "        text-align: right;\n",
       "    }\n",
       "</style>\n",
       "<table border=\"1\" class=\"dataframe\">\n",
       "  <thead>\n",
       "    <tr style=\"text-align: right;\">\n",
       "      <th></th>\n",
       "      <th>oblast</th>\n",
       "      <th>generation</th>\n",
       "    </tr>\n",
       "  </thead>\n",
       "  <tbody>\n",
       "    <tr>\n",
       "      <th>0</th>\n",
       "      <td>Cherkaska</td>\n",
       "      <td>12.809762</td>\n",
       "    </tr>\n",
       "    <tr>\n",
       "      <th>1</th>\n",
       "      <td>Chernihivska</td>\n",
       "      <td>10.401013</td>\n",
       "    </tr>\n",
       "    <tr>\n",
       "      <th>2</th>\n",
       "      <td>Chernivetska</td>\n",
       "      <td>5.204956</td>\n",
       "    </tr>\n",
       "    <tr>\n",
       "      <th>3</th>\n",
       "      <td>Dnipropetrovska</td>\n",
       "      <td>91.600460</td>\n",
       "    </tr>\n",
       "    <tr>\n",
       "      <th>4</th>\n",
       "      <td>Donetska</td>\n",
       "      <td>45.276027</td>\n",
       "    </tr>\n",
       "    <tr>\n",
       "      <th>5</th>\n",
       "      <td>Ivano-Frankivska</td>\n",
       "      <td>12.416437</td>\n",
       "    </tr>\n",
       "    <tr>\n",
       "      <th>6</th>\n",
       "      <td>Kharkivska</td>\n",
       "      <td>43.015506</td>\n",
       "    </tr>\n",
       "    <tr>\n",
       "      <th>7</th>\n",
       "      <td>Khersonska</td>\n",
       "      <td>12.936792</td>\n",
       "    </tr>\n",
       "    <tr>\n",
       "      <th>8</th>\n",
       "      <td>Khmelnytska</td>\n",
       "      <td>17.771067</td>\n",
       "    </tr>\n",
       "    <tr>\n",
       "      <th>9</th>\n",
       "      <td>Kirovohradska</td>\n",
       "      <td>15.682634</td>\n",
       "    </tr>\n",
       "    <tr>\n",
       "      <th>10</th>\n",
       "      <td>Kyivska</td>\n",
       "      <td>47.587271</td>\n",
       "    </tr>\n",
       "    <tr>\n",
       "      <th>11</th>\n",
       "      <td>Luhanska</td>\n",
       "      <td>3.708108</td>\n",
       "    </tr>\n",
       "    <tr>\n",
       "      <th>12</th>\n",
       "      <td>Lvivska</td>\n",
       "      <td>20.500434</td>\n",
       "    </tr>\n",
       "    <tr>\n",
       "      <th>13</th>\n",
       "      <td>Mykolaivska</td>\n",
       "      <td>17.412398</td>\n",
       "    </tr>\n",
       "    <tr>\n",
       "      <th>14</th>\n",
       "      <td>Odeska</td>\n",
       "      <td>30.589218</td>\n",
       "    </tr>\n",
       "    <tr>\n",
       "      <th>15</th>\n",
       "      <td>Poltavska</td>\n",
       "      <td>27.147015</td>\n",
       "    </tr>\n",
       "    <tr>\n",
       "      <th>16</th>\n",
       "      <td>Rivnenska</td>\n",
       "      <td>14.377486</td>\n",
       "    </tr>\n",
       "    <tr>\n",
       "      <th>17</th>\n",
       "      <td>Sumska</td>\n",
       "      <td>17.480848</td>\n",
       "    </tr>\n",
       "    <tr>\n",
       "      <th>18</th>\n",
       "      <td>Ternopilska</td>\n",
       "      <td>11.613889</td>\n",
       "    </tr>\n",
       "    <tr>\n",
       "      <th>19</th>\n",
       "      <td>Vinnytska</td>\n",
       "      <td>17.772337</td>\n",
       "    </tr>\n",
       "    <tr>\n",
       "      <th>20</th>\n",
       "      <td>Volynska</td>\n",
       "      <td>4.971255</td>\n",
       "    </tr>\n",
       "    <tr>\n",
       "      <th>21</th>\n",
       "      <td>Zakarpatska</td>\n",
       "      <td>7.121490</td>\n",
       "    </tr>\n",
       "    <tr>\n",
       "      <th>22</th>\n",
       "      <td>Zaporizka</td>\n",
       "      <td>22.481675</td>\n",
       "    </tr>\n",
       "    <tr>\n",
       "      <th>23</th>\n",
       "      <td>Zhytomyrska</td>\n",
       "      <td>38.096660</td>\n",
       "    </tr>\n",
       "  </tbody>\n",
       "</table>\n",
       "</div>"
      ],
      "text/plain": [
       "              oblast  generation\n",
       "0          Cherkaska   12.809762\n",
       "1       Chernihivska   10.401013\n",
       "2       Chernivetska    5.204956\n",
       "3    Dnipropetrovska   91.600460\n",
       "4           Donetska   45.276027\n",
       "5   Ivano-Frankivska   12.416437\n",
       "6         Kharkivska   43.015506\n",
       "7         Khersonska   12.936792\n",
       "8        Khmelnytska   17.771067\n",
       "9      Kirovohradska   15.682634\n",
       "10           Kyivska   47.587271\n",
       "11          Luhanska    3.708108\n",
       "12           Lvivska   20.500434\n",
       "13       Mykolaivska   17.412398\n",
       "14            Odeska   30.589218\n",
       "15         Poltavska   27.147015\n",
       "16         Rivnenska   14.377486\n",
       "17            Sumska   17.480848\n",
       "18       Ternopilska   11.613889\n",
       "19         Vinnytska   17.772337\n",
       "20          Volynska    4.971255\n",
       "21       Zakarpatska    7.121490\n",
       "22         Zaporizka   22.481675\n",
       "23       Zhytomyrska   38.096660"
      ]
     },
     "execution_count": 1706,
     "metadata": {},
     "output_type": "execute_result"
    }
   ],
   "source": [
    "y"
   ]
  },
  {
   "cell_type": "code",
   "execution_count": 1707,
   "metadata": {},
   "outputs": [
    {
     "data": {
      "text/html": [
       "<div>\n",
       "<style scoped>\n",
       "    .dataframe tbody tr th:only-of-type {\n",
       "        vertical-align: middle;\n",
       "    }\n",
       "\n",
       "    .dataframe tbody tr th {\n",
       "        vertical-align: top;\n",
       "    }\n",
       "\n",
       "    .dataframe thead th {\n",
       "        text-align: right;\n",
       "    }\n",
       "</style>\n",
       "<table border=\"1\" class=\"dataframe\">\n",
       "  <thead>\n",
       "    <tr style=\"text-align: right;\">\n",
       "      <th></th>\n",
       "      <th>oblast</th>\n",
       "      <th>Grain</th>\n",
       "      <th>Other crop</th>\n",
       "      <th>Mining industry</th>\n",
       "      <th>Other Industry</th>\n",
       "      <th>Petroleum Products</th>\n",
       "      <th>Mineral  products</th>\n",
       "      <th>Metallurgy</th>\n",
       "      <th>Animal Husbandry</th>\n",
       "      <th>Waste</th>\n",
       "      <th>Population</th>\n",
       "      <th>GDP</th>\n",
       "      <th>Import</th>\n",
       "    </tr>\n",
       "  </thead>\n",
       "  <tbody>\n",
       "    <tr>\n",
       "      <th>0</th>\n",
       "      <td>Cherkaska</td>\n",
       "      <td>4.6440</td>\n",
       "      <td>3.1014</td>\n",
       "      <td>0.323161</td>\n",
       "      <td>2.282224</td>\n",
       "      <td>0.000000</td>\n",
       "      <td>0.131885</td>\n",
       "      <td>0.069174</td>\n",
       "      <td>0.849030</td>\n",
       "      <td>1.48460</td>\n",
       "      <td>1.206351</td>\n",
       "      <td>20.217</td>\n",
       "      <td>0.000000</td>\n",
       "    </tr>\n",
       "    <tr>\n",
       "      <th>1</th>\n",
       "      <td>Chernihivska</td>\n",
       "      <td>0.5864</td>\n",
       "      <td>1.3697</td>\n",
       "      <td>2.344884</td>\n",
       "      <td>1.008002</td>\n",
       "      <td>0.000000</td>\n",
       "      <td>0.057278</td>\n",
       "      <td>0.040707</td>\n",
       "      <td>0.331131</td>\n",
       "      <td>0.30800</td>\n",
       "      <td>0.904374</td>\n",
       "      <td>18.693</td>\n",
       "      <td>1.735402</td>\n",
       "    </tr>\n",
       "    <tr>\n",
       "      <th>2</th>\n",
       "      <td>Chernivetska</td>\n",
       "      <td>4.9095</td>\n",
       "      <td>2.8047</td>\n",
       "      <td>0.069256</td>\n",
       "      <td>0.158049</td>\n",
       "      <td>0.000000</td>\n",
       "      <td>0.058606</td>\n",
       "      <td>0.012840</td>\n",
       "      <td>0.584315</td>\n",
       "      <td>0.71740</td>\n",
       "      <td>1.005745</td>\n",
       "      <td>10.671</td>\n",
       "      <td>0.398317</td>\n",
       "    </tr>\n",
       "    <tr>\n",
       "      <th>3</th>\n",
       "      <td>Dnipropetrovska</td>\n",
       "      <td>3.4875</td>\n",
       "      <td>3.0439</td>\n",
       "      <td>73.993718</td>\n",
       "      <td>2.738703</td>\n",
       "      <td>0.539605</td>\n",
       "      <td>0.953764</td>\n",
       "      <td>12.385788</td>\n",
       "      <td>0.587331</td>\n",
       "      <td>243.59880</td>\n",
       "      <td>3.206477</td>\n",
       "      <td>32.896</td>\n",
       "      <td>0.000000</td>\n",
       "    </tr>\n",
       "    <tr>\n",
       "      <th>4</th>\n",
       "      <td>Donetska</td>\n",
       "      <td>1.3444</td>\n",
       "      <td>1.2881</td>\n",
       "      <td>32.936292</td>\n",
       "      <td>0.779895</td>\n",
       "      <td>1.351476</td>\n",
       "      <td>0.314570</td>\n",
       "      <td>9.329018</td>\n",
       "      <td>0.311122</td>\n",
       "      <td>24.11020</td>\n",
       "      <td>4.165901</td>\n",
       "      <td>13.347</td>\n",
       "      <td>1.005068</td>\n",
       "    </tr>\n",
       "    <tr>\n",
       "      <th>5</th>\n",
       "      <td>Ivano-Frankivska</td>\n",
       "      <td>0.8045</td>\n",
       "      <td>1.5432</td>\n",
       "      <td>3.771917</td>\n",
       "      <td>1.714701</td>\n",
       "      <td>0.000000</td>\n",
       "      <td>0.390537</td>\n",
       "      <td>0.034493</td>\n",
       "      <td>0.549479</td>\n",
       "      <td>1.96980</td>\n",
       "      <td>1.373252</td>\n",
       "      <td>15.684</td>\n",
       "      <td>0.000000</td>\n",
       "    </tr>\n",
       "    <tr>\n",
       "      <th>6</th>\n",
       "      <td>Kharkivska</td>\n",
       "      <td>3.8292</td>\n",
       "      <td>4.0382</td>\n",
       "      <td>31.220013</td>\n",
       "      <td>2.410226</td>\n",
       "      <td>0.286363</td>\n",
       "      <td>0.580865</td>\n",
       "      <td>0.460805</td>\n",
       "      <td>0.641169</td>\n",
       "      <td>1.62850</td>\n",
       "      <td>2.675598</td>\n",
       "      <td>23.533</td>\n",
       "      <td>22.273247</td>\n",
       "    </tr>\n",
       "    <tr>\n",
       "      <th>7</th>\n",
       "      <td>Khersonska</td>\n",
       "      <td>2.2677</td>\n",
       "      <td>2.9676</td>\n",
       "      <td>0.064366</td>\n",
       "      <td>0.767247</td>\n",
       "      <td>0.000000</td>\n",
       "      <td>0.118045</td>\n",
       "      <td>0.056724</td>\n",
       "      <td>0.383283</td>\n",
       "      <td>0.39250</td>\n",
       "      <td>1.037640</td>\n",
       "      <td>15.420</td>\n",
       "      <td>0.566603</td>\n",
       "    </tr>\n",
       "    <tr>\n",
       "      <th>8</th>\n",
       "      <td>Khmelnytska</td>\n",
       "      <td>3.8610</td>\n",
       "      <td>4.5393</td>\n",
       "      <td>0.370720</td>\n",
       "      <td>0.649810</td>\n",
       "      <td>0.000000</td>\n",
       "      <td>0.392310</td>\n",
       "      <td>0.160705</td>\n",
       "      <td>0.751552</td>\n",
       "      <td>0.90050</td>\n",
       "      <td>1.264705</td>\n",
       "      <td>16.904</td>\n",
       "      <td>0.000000</td>\n",
       "    </tr>\n",
       "    <tr>\n",
       "      <th>9</th>\n",
       "      <td>Kirovohradska</td>\n",
       "      <td>3.7632</td>\n",
       "      <td>3.0477</td>\n",
       "      <td>1.266708</td>\n",
       "      <td>0.594425</td>\n",
       "      <td>0.000000</td>\n",
       "      <td>0.064708</td>\n",
       "      <td>0.221805</td>\n",
       "      <td>0.386273</td>\n",
       "      <td>37.90200</td>\n",
       "      <td>0.945549</td>\n",
       "      <td>18.688</td>\n",
       "      <td>0.000000</td>\n",
       "    </tr>\n",
       "    <tr>\n",
       "      <th>10</th>\n",
       "      <td>Kyivska</td>\n",
       "      <td>4.0815</td>\n",
       "      <td>4.9794</td>\n",
       "      <td>1.022847</td>\n",
       "      <td>7.188221</td>\n",
       "      <td>0.004573</td>\n",
       "      <td>1.856470</td>\n",
       "      <td>0.820544</td>\n",
       "      <td>0.824909</td>\n",
       "      <td>2.36770</td>\n",
       "      <td>4.718759</td>\n",
       "      <td>30.488</td>\n",
       "      <td>0.057366</td>\n",
       "    </tr>\n",
       "    <tr>\n",
       "      <th>11</th>\n",
       "      <td>Luhanska</td>\n",
       "      <td>1.1594</td>\n",
       "      <td>1.2452</td>\n",
       "      <td>0.923415</td>\n",
       "      <td>0.638031</td>\n",
       "      <td>0.000000</td>\n",
       "      <td>0.026709</td>\n",
       "      <td>0.005909</td>\n",
       "      <td>0.139919</td>\n",
       "      <td>0.55750</td>\n",
       "      <td>2.151833</td>\n",
       "      <td>4.702</td>\n",
       "      <td>1.314731</td>\n",
       "    </tr>\n",
       "    <tr>\n",
       "      <th>12</th>\n",
       "      <td>Lvivska</td>\n",
       "      <td>1.4400</td>\n",
       "      <td>3.4783</td>\n",
       "      <td>5.390241</td>\n",
       "      <td>2.162988</td>\n",
       "      <td>0.001732</td>\n",
       "      <td>0.417325</td>\n",
       "      <td>0.328990</td>\n",
       "      <td>0.667103</td>\n",
       "      <td>2.13930</td>\n",
       "      <td>2.522021</td>\n",
       "      <td>19.717</td>\n",
       "      <td>2.735865</td>\n",
       "    </tr>\n",
       "    <tr>\n",
       "      <th>13</th>\n",
       "      <td>Mykolaivska</td>\n",
       "      <td>2.6734</td>\n",
       "      <td>2.0217</td>\n",
       "      <td>0.420452</td>\n",
       "      <td>0.898853</td>\n",
       "      <td>0.005763</td>\n",
       "      <td>0.591424</td>\n",
       "      <td>0.219853</td>\n",
       "      <td>0.376669</td>\n",
       "      <td>2.41020</td>\n",
       "      <td>1.131096</td>\n",
       "      <td>20.505</td>\n",
       "      <td>0.593164</td>\n",
       "    </tr>\n",
       "    <tr>\n",
       "      <th>14</th>\n",
       "      <td>Odeska</td>\n",
       "      <td>4.3199</td>\n",
       "      <td>2.2665</td>\n",
       "      <td>0.008353</td>\n",
       "      <td>1.216511</td>\n",
       "      <td>0.000000</td>\n",
       "      <td>0.302441</td>\n",
       "      <td>0.273821</td>\n",
       "      <td>0.393070</td>\n",
       "      <td>0.72850</td>\n",
       "      <td>2.380308</td>\n",
       "      <td>21.234</td>\n",
       "      <td>15.282451</td>\n",
       "    </tr>\n",
       "    <tr>\n",
       "      <th>15</th>\n",
       "      <td>Poltavska</td>\n",
       "      <td>6.3418</td>\n",
       "      <td>4.6596</td>\n",
       "      <td>47.797692</td>\n",
       "      <td>1.815864</td>\n",
       "      <td>1.410361</td>\n",
       "      <td>0.087414</td>\n",
       "      <td>0.104229</td>\n",
       "      <td>0.875317</td>\n",
       "      <td>19.82572</td>\n",
       "      <td>1.400439</td>\n",
       "      <td>35.981</td>\n",
       "      <td>0.000000</td>\n",
       "    </tr>\n",
       "    <tr>\n",
       "      <th>16</th>\n",
       "      <td>Rivnenska</td>\n",
       "      <td>1.2595</td>\n",
       "      <td>2.7296</td>\n",
       "      <td>0.634019</td>\n",
       "      <td>0.753840</td>\n",
       "      <td>0.000000</td>\n",
       "      <td>0.303709</td>\n",
       "      <td>0.043913</td>\n",
       "      <td>0.487014</td>\n",
       "      <td>0.48420</td>\n",
       "      <td>1.157301</td>\n",
       "      <td>14.236</td>\n",
       "      <td>1.672062</td>\n",
       "    </tr>\n",
       "    <tr>\n",
       "      <th>17</th>\n",
       "      <td>Sumska</td>\n",
       "      <td>4.4701</td>\n",
       "      <td>2.3585</td>\n",
       "      <td>5.796772</td>\n",
       "      <td>0.772057</td>\n",
       "      <td>0.000000</td>\n",
       "      <td>0.122377</td>\n",
       "      <td>0.263435</td>\n",
       "      <td>0.479476</td>\n",
       "      <td>0.85220</td>\n",
       "      <td>1.081418</td>\n",
       "      <td>17.413</td>\n",
       "      <td>3.351451</td>\n",
       "    </tr>\n",
       "    <tr>\n",
       "      <th>18</th>\n",
       "      <td>Ternopilska</td>\n",
       "      <td>2.6319</td>\n",
       "      <td>3.7615</td>\n",
       "      <td>0.552352</td>\n",
       "      <td>0.522145</td>\n",
       "      <td>0.000000</td>\n",
       "      <td>0.155374</td>\n",
       "      <td>0.065683</td>\n",
       "      <td>0.534347</td>\n",
       "      <td>1.65180</td>\n",
       "      <td>1.045879</td>\n",
       "      <td>13.070</td>\n",
       "      <td>0.000000</td>\n",
       "    </tr>\n",
       "    <tr>\n",
       "      <th>19</th>\n",
       "      <td>Vinnytska</td>\n",
       "      <td>5.9111</td>\n",
       "      <td>7.2822</td>\n",
       "      <td>0.971777</td>\n",
       "      <td>2.573213</td>\n",
       "      <td>0.000000</td>\n",
       "      <td>0.096279</td>\n",
       "      <td>0.126549</td>\n",
       "      <td>1.226470</td>\n",
       "      <td>1.78220</td>\n",
       "      <td>1.560394</td>\n",
       "      <td>19.772</td>\n",
       "      <td>0.024744</td>\n",
       "    </tr>\n",
       "    <tr>\n",
       "      <th>20</th>\n",
       "      <td>Volynska</td>\n",
       "      <td>1.2372</td>\n",
       "      <td>2.3251</td>\n",
       "      <td>0.106037</td>\n",
       "      <td>0.873872</td>\n",
       "      <td>0.000000</td>\n",
       "      <td>0.102290</td>\n",
       "      <td>0.066499</td>\n",
       "      <td>0.515287</td>\n",
       "      <td>0.55540</td>\n",
       "      <td>1.035330</td>\n",
       "      <td>16.928</td>\n",
       "      <td>3.527759</td>\n",
       "    </tr>\n",
       "    <tr>\n",
       "      <th>21</th>\n",
       "      <td>Zakarpatska</td>\n",
       "      <td>0.3759</td>\n",
       "      <td>1.0615</td>\n",
       "      <td>0.152443</td>\n",
       "      <td>0.359821</td>\n",
       "      <td>0.000000</td>\n",
       "      <td>0.025944</td>\n",
       "      <td>0.010593</td>\n",
       "      <td>0.423355</td>\n",
       "      <td>0.18630</td>\n",
       "      <td>1.256802</td>\n",
       "      <td>11.583</td>\n",
       "      <td>2.082659</td>\n",
       "    </tr>\n",
       "    <tr>\n",
       "      <th>22</th>\n",
       "      <td>Zaporizka</td>\n",
       "      <td>2.2333</td>\n",
       "      <td>1.4268</td>\n",
       "      <td>2.438537</td>\n",
       "      <td>1.531881</td>\n",
       "      <td>0.427787</td>\n",
       "      <td>0.319111</td>\n",
       "      <td>5.827510</td>\n",
       "      <td>0.330515</td>\n",
       "      <td>5.29440</td>\n",
       "      <td>1.705836</td>\n",
       "      <td>25.503</td>\n",
       "      <td>0.019098</td>\n",
       "    </tr>\n",
       "    <tr>\n",
       "      <th>23</th>\n",
       "      <td>Zhytomyrska</td>\n",
       "      <td>2.4241</td>\n",
       "      <td>3.7660</td>\n",
       "      <td>2.680984</td>\n",
       "      <td>1.018981</td>\n",
       "      <td>0.000000</td>\n",
       "      <td>0.278084</td>\n",
       "      <td>0.209621</td>\n",
       "      <td>0.650551</td>\n",
       "      <td>0.48620</td>\n",
       "      <td>1.220193</td>\n",
       "      <td>16.844</td>\n",
       "      <td>6.258674</td>\n",
       "    </tr>\n",
       "  </tbody>\n",
       "</table>\n",
       "</div>"
      ],
      "text/plain": [
       "              oblast   Grain  Other crop  Mining industry  Other Industry  \\\n",
       "0          Cherkaska  4.6440      3.1014         0.323161        2.282224   \n",
       "1       Chernihivska  0.5864      1.3697         2.344884        1.008002   \n",
       "2       Chernivetska  4.9095      2.8047         0.069256        0.158049   \n",
       "3    Dnipropetrovska  3.4875      3.0439        73.993718        2.738703   \n",
       "4           Donetska  1.3444      1.2881        32.936292        0.779895   \n",
       "5   Ivano-Frankivska  0.8045      1.5432         3.771917        1.714701   \n",
       "6         Kharkivska  3.8292      4.0382        31.220013        2.410226   \n",
       "7         Khersonska  2.2677      2.9676         0.064366        0.767247   \n",
       "8        Khmelnytska  3.8610      4.5393         0.370720        0.649810   \n",
       "9      Kirovohradska  3.7632      3.0477         1.266708        0.594425   \n",
       "10           Kyivska  4.0815      4.9794         1.022847        7.188221   \n",
       "11          Luhanska  1.1594      1.2452         0.923415        0.638031   \n",
       "12           Lvivska  1.4400      3.4783         5.390241        2.162988   \n",
       "13       Mykolaivska  2.6734      2.0217         0.420452        0.898853   \n",
       "14            Odeska  4.3199      2.2665         0.008353        1.216511   \n",
       "15         Poltavska  6.3418      4.6596        47.797692        1.815864   \n",
       "16         Rivnenska  1.2595      2.7296         0.634019        0.753840   \n",
       "17            Sumska  4.4701      2.3585         5.796772        0.772057   \n",
       "18       Ternopilska  2.6319      3.7615         0.552352        0.522145   \n",
       "19         Vinnytska  5.9111      7.2822         0.971777        2.573213   \n",
       "20          Volynska  1.2372      2.3251         0.106037        0.873872   \n",
       "21       Zakarpatska  0.3759      1.0615         0.152443        0.359821   \n",
       "22         Zaporizka  2.2333      1.4268         2.438537        1.531881   \n",
       "23       Zhytomyrska  2.4241      3.7660         2.680984        1.018981   \n",
       "\n",
       "    Petroleum Products  Mineral  products  Metallurgy  Animal Husbandry  \\\n",
       "0             0.000000           0.131885    0.069174          0.849030   \n",
       "1             0.000000           0.057278    0.040707          0.331131   \n",
       "2             0.000000           0.058606    0.012840          0.584315   \n",
       "3             0.539605           0.953764   12.385788          0.587331   \n",
       "4             1.351476           0.314570    9.329018          0.311122   \n",
       "5             0.000000           0.390537    0.034493          0.549479   \n",
       "6             0.286363           0.580865    0.460805          0.641169   \n",
       "7             0.000000           0.118045    0.056724          0.383283   \n",
       "8             0.000000           0.392310    0.160705          0.751552   \n",
       "9             0.000000           0.064708    0.221805          0.386273   \n",
       "10            0.004573           1.856470    0.820544          0.824909   \n",
       "11            0.000000           0.026709    0.005909          0.139919   \n",
       "12            0.001732           0.417325    0.328990          0.667103   \n",
       "13            0.005763           0.591424    0.219853          0.376669   \n",
       "14            0.000000           0.302441    0.273821          0.393070   \n",
       "15            1.410361           0.087414    0.104229          0.875317   \n",
       "16            0.000000           0.303709    0.043913          0.487014   \n",
       "17            0.000000           0.122377    0.263435          0.479476   \n",
       "18            0.000000           0.155374    0.065683          0.534347   \n",
       "19            0.000000           0.096279    0.126549          1.226470   \n",
       "20            0.000000           0.102290    0.066499          0.515287   \n",
       "21            0.000000           0.025944    0.010593          0.423355   \n",
       "22            0.427787           0.319111    5.827510          0.330515   \n",
       "23            0.000000           0.278084    0.209621          0.650551   \n",
       "\n",
       "        Waste  Population     GDP     Import  \n",
       "0     1.48460    1.206351  20.217   0.000000  \n",
       "1     0.30800    0.904374  18.693   1.735402  \n",
       "2     0.71740    1.005745  10.671   0.398317  \n",
       "3   243.59880    3.206477  32.896   0.000000  \n",
       "4    24.11020    4.165901  13.347   1.005068  \n",
       "5     1.96980    1.373252  15.684   0.000000  \n",
       "6     1.62850    2.675598  23.533  22.273247  \n",
       "7     0.39250    1.037640  15.420   0.566603  \n",
       "8     0.90050    1.264705  16.904   0.000000  \n",
       "9    37.90200    0.945549  18.688   0.000000  \n",
       "10    2.36770    4.718759  30.488   0.057366  \n",
       "11    0.55750    2.151833   4.702   1.314731  \n",
       "12    2.13930    2.522021  19.717   2.735865  \n",
       "13    2.41020    1.131096  20.505   0.593164  \n",
       "14    0.72850    2.380308  21.234  15.282451  \n",
       "15   19.82572    1.400439  35.981   0.000000  \n",
       "16    0.48420    1.157301  14.236   1.672062  \n",
       "17    0.85220    1.081418  17.413   3.351451  \n",
       "18    1.65180    1.045879  13.070   0.000000  \n",
       "19    1.78220    1.560394  19.772   0.024744  \n",
       "20    0.55540    1.035330  16.928   3.527759  \n",
       "21    0.18630    1.256802  11.583   2.082659  \n",
       "22    5.29440    1.705836  25.503   0.019098  \n",
       "23    0.48620    1.220193  16.844   6.258674  "
      ]
     },
     "execution_count": 1707,
     "metadata": {},
     "output_type": "execute_result"
    }
   ],
   "source": [
    "x"
   ]
  },
  {
   "cell_type": "code",
   "execution_count": 1709,
   "metadata": {
    "collapsed": true,
    "jupyter": {
     "outputs_hidden": true
    }
   },
   "outputs": [
    {
     "name": "stdout",
     "output_type": "stream",
     "text": [
      "Grain\n",
      "0.21781344727325397\n"
     ]
    },
    {
     "data": {
      "image/png": "[encoded data removed]",
      "text/plain": [
       "<Figure size 432x288 with 1 Axes>"
      ]
     },
     "metadata": {
      "needs_background": "light"
     },
     "output_type": "display_data"
    },
    {
     "name": "stdout",
     "output_type": "stream",
     "text": [
      "Other crop\n",
      "0.20548507680873063\n"
     ]
    },
    {
     "data": {
      "image/png": "[encoded data removed]",
      "text/plain": [
       "<Figure size 432x288 with 1 Axes>"
      ]
     },
     "metadata": {
      "needs_background": "light"
     },
     "output_type": "display_data"
    },
    {
     "name": "stdout",
     "output_type": "stream",
     "text": [
      "Mining industry\n",
      "0.7900171017497318\n"
     ]
    },
    {
     "data": {
      "image/png": "[encoded data removed]",
      "text/plain": [
       "<Figure size 432x288 with 1 Axes>"
      ]
     },
     "metadata": {
      "needs_background": "light"
     },
     "output_type": "display_data"
    },
    {
     "name": "stdout",
     "output_type": "stream",
     "text": [
      "Other Industry\n",
      "0.5044397178251241\n"
     ]
    },
    {
     "data": {
      "image/png": "[encoded data removed]",
      "text/plain": [
       "<Figure size 432x288 with 1 Axes>"
      ]
     },
     "metadata": {
      "needs_background": "light"
     },
     "output_type": "display_data"
    },
    {
     "name": "stdout",
     "output_type": "stream",
     "text": [
      "Petroleum Products\n",
      "0.4436044859474493\n"
     ]
    },
    {
     "data": {
      "image/png": "[encoded data removed]",
      "text/plain": [
       "<Figure size 432x288 with 1 Axes>"
      ]
     },
     "metadata": {
      "needs_background": "light"
     },
     "output_type": "display_data"
    },
    {
     "name": "stdout",
     "output_type": "stream",
     "text": [
      "Mineral  products\n",
      "0.6474937769214021\n"
     ]
    },
    {
     "data": {
      "image/png": "[encoded data removed]",
      "text/plain": [
       "<Figure size 432x288 with 1 Axes>"
      ]
     },
     "metadata": {
      "needs_background": "light"
     },
     "output_type": "display_data"
    },
    {
     "name": "stdout",
     "output_type": "stream",
     "text": [
      "Metallurgy\n",
      "0.7599399267857171\n"
     ]
    },
    {
     "data": {
      "image/png": "[encoded data removed]",
      "text/plain": [
       "<Figure size 432x288 with 1 Axes>"
      ]
     },
     "metadata": {
      "needs_background": "light"
     },
     "output_type": "display_data"
    },
    {
     "name": "stdout",
     "output_type": "stream",
     "text": [
      "Animal Husbandry\n",
      "0.16639236980496758\n"
     ]
    },
    {
     "data": {
      "image/png": "[encoded data removed]",
      "text/plain": [
       "<Figure size 432x288 with 1 Axes>"
      ]
     },
     "metadata": {
      "needs_background": "light"
     },
     "output_type": "display_data"
    },
    {
     "name": "stdout",
     "output_type": "stream",
     "text": [
      "Waste\n",
      "0.772099108642608\n"
     ]
    },
    {
     "data": {
      "image/png": "[encoded data removed]",
      "text/plain": [
       "<Figure size 432x288 with 1 Axes>"
      ]
     },
     "metadata": {
      "needs_background": "light"
     },
     "output_type": "display_data"
    },
    {
     "name": "stdout",
     "output_type": "stream",
     "text": [
      "Population\n",
      "0.6965551724129544\n"
     ]
    },
    {
     "data": {
      "image/png": "[encoded data removed]",
      "text/plain": [
       "<Figure size 432x288 with 1 Axes>"
      ]
     },
     "metadata": {
      "needs_background": "light"
     },
     "output_type": "display_data"
    },
    {
     "name": "stdout",
     "output_type": "stream",
     "text": [
      "GDP\n",
      "0.6394480581408102\n"
     ]
    },
    {
     "data": {
      "image/png": "[encoded data removed]",
      "text/plain": [
       "<Figure size 432x288 with 1 Axes>"
      ]
     },
     "metadata": {
      "needs_background": "light"
     },
     "output_type": "display_data"
    },
    {
     "name": "stdout",
     "output_type": "stream",
     "text": [
      "Import\n",
      "0.2073575761395971\n"
     ]
    },
    {
     "data": {
      "image/png": "[encoded data removed]",
      "text/plain": [
       "<Figure size 432x288 with 1 Axes>"
      ]
     },
     "metadata": {
      "needs_background": "light"
     },
     "output_type": "display_data"
    }
   ],
   "source": [
    "for i in x.columns[1:]:\n",
    "    print(i)\n",
    "    print(np.corrcoef(x[i],y['generation'])[0][1])\n",
    "    plt.plot(x[i], y['generation'], 'ro')\n",
    "    plt.show()"
   ]
  },
  {
   "cell_type": "code",
   "execution_count": 1710,
   "metadata": {},
   "outputs": [],
   "source": [
    "y_np = y.to_numpy()[:, 1:]\n",
    "x_np = x.to_numpy()[:, 1:]"
   ]
  },
  {
   "cell_type": "markdown",
   "metadata": {},
   "source": [
    "### Linear regression positive coefficients with zero intercept estimation using k-fold cross validation"
   ]
  },
  {
   "cell_type": "markdown",
   "metadata": {},
   "source": [
    "The general procedure is as follows:\n",
    "\n",
    "1. Shuffle the dataset randomly.\n",
    "2. Split the dataset into k groups\n",
    "3. For each unique group:\n",
    "    - Take the group as a hold out or test data set\n",
    "    - Take the remaining groups as a training data set\n",
    "    - Fit a model on the training set and evaluate it on the test set\n",
    "    - Retain the evaluation score and discard the model\n",
    "4. Summarize the skill of the model using the sample of model evaluation scores"
   ]
  },
  {
   "cell_type": "code",
   "execution_count": 1711,
   "metadata": {},
   "outputs": [],
   "source": [
    "#l1 regularization (finding important features)\n",
    "clf = linear_model.Lasso(alpha = 0.05, positive = True, fit_intercept = False)"
   ]
  },
  {
   "cell_type": "code",
   "execution_count": 1712,
   "metadata": {},
   "outputs": [],
   "source": [
    "#regular linear regression\n",
    "#clf = linear_model.LinearRegression(positive = True, fit_intercept = False)"
   ]
  },
  {
   "cell_type": "markdown",
   "metadata": {},
   "source": [
    "##  Models scores for choosing the best model\n",
    "### We will choose the best model based on the least test R2 statistics and analysis of selected features"
   ]
  },
  {
   "cell_type": "code",
   "execution_count": 1713,
   "metadata": {},
   "outputs": [
    {
     "data": {
      "text/html": [
       "<div>\n",
       "<style scoped>\n",
       "    .dataframe tbody tr th:only-of-type {\n",
       "        vertical-align: middle;\n",
       "    }\n",
       "\n",
       "    .dataframe tbody tr th {\n",
       "        vertical-align: top;\n",
       "    }\n",
       "\n",
       "    .dataframe thead th {\n",
       "        text-align: right;\n",
       "    }\n",
       "</style>\n",
       "<table border=\"1\" class=\"dataframe\">\n",
       "  <thead>\n",
       "    <tr style=\"text-align: right;\">\n",
       "      <th></th>\n",
       "      <th>model_index</th>\n",
       "      <th>test_r2</th>\n",
       "      <th>train_r2</th>\n",
       "      <th>train_MSE</th>\n",
       "      <th>test_MSE</th>\n",
       "    </tr>\n",
       "  </thead>\n",
       "  <tbody>\n",
       "    <tr>\n",
       "      <th>0</th>\n",
       "      <td>model 0</td>\n",
       "      <td>0.984771</td>\n",
       "      <td>0.877066</td>\n",
       "      <td>-20.258071</td>\n",
       "      <td>-19.375633</td>\n",
       "    </tr>\n",
       "    <tr>\n",
       "      <th>1</th>\n",
       "      <td>model 1</td>\n",
       "      <td>0.607785</td>\n",
       "      <td>0.958228</td>\n",
       "      <td>-15.642292</td>\n",
       "      <td>-97.367118</td>\n",
       "    </tr>\n",
       "    <tr>\n",
       "      <th>2</th>\n",
       "      <td>model 2</td>\n",
       "      <td>0.979620</td>\n",
       "      <td>0.943448</td>\n",
       "      <td>-21.416801</td>\n",
       "      <td>-5.321595</td>\n",
       "    </tr>\n",
       "    <tr>\n",
       "      <th>3</th>\n",
       "      <td>model 3</td>\n",
       "      <td>0.823733</td>\n",
       "      <td>0.949031</td>\n",
       "      <td>-20.719505</td>\n",
       "      <td>-5.580774</td>\n",
       "    </tr>\n",
       "    <tr>\n",
       "      <th>4</th>\n",
       "      <td>model 4</td>\n",
       "      <td>0.200960</td>\n",
       "      <td>0.951121</td>\n",
       "      <td>-19.804528</td>\n",
       "      <td>-23.627303</td>\n",
       "    </tr>\n",
       "    <tr>\n",
       "      <th>5</th>\n",
       "      <td>model 5</td>\n",
       "      <td>-1.246491</td>\n",
       "      <td>0.958381</td>\n",
       "      <td>-16.064407</td>\n",
       "      <td>-61.383819</td>\n",
       "    </tr>\n",
       "    <tr>\n",
       "      <th>6</th>\n",
       "      <td>model 6</td>\n",
       "      <td>0.024199</td>\n",
       "      <td>0.988057</td>\n",
       "      <td>-4.636016</td>\n",
       "      <td>-156.044080</td>\n",
       "    </tr>\n",
       "  </tbody>\n",
       "</table>\n",
       "</div>"
      ],
      "text/plain": [
       "  model_index   test_r2  train_r2  train_MSE    test_MSE\n",
       "0     model 0  0.984771  0.877066 -20.258071  -19.375633\n",
       "1     model 1  0.607785  0.958228 -15.642292  -97.367118\n",
       "2     model 2  0.979620  0.943448 -21.416801   -5.321595\n",
       "3     model 3  0.823733  0.949031 -20.719505   -5.580774\n",
       "4     model 4  0.200960  0.951121 -19.804528  -23.627303\n",
       "5     model 5 -1.246491  0.958381 -16.064407  -61.383819\n",
       "6     model 6  0.024199  0.988057  -4.636016 -156.044080"
      ]
     },
     "execution_count": 1713,
     "metadata": {},
     "output_type": "execute_result"
    }
   ],
   "source": [
    "scores = cross_validate(clf, x_np, y_np[:, 0], cv=7,\n",
    "                        scoring=('r2', 'neg_mean_squared_error'),\n",
    "                        return_train_score=True, return_estimator=True)\n",
    "models_scores = pd.concat([pd.DataFrame(['model ' + str(i) for i in range(7)]),\n",
    "           pd.DataFrame(list(zip(scores['test_r2'], scores['train_r2']))),\n",
    "           pd.DataFrame(list(zip(scores['train_neg_mean_squared_error'], scores['test_neg_mean_squared_error'])))], axis = 1)\n",
    "models_scores.columns = ['model_index', 'test_r2', 'train_r2', 'train_MSE', 'test_MSE']\n",
    "models_scores"
   ]
  },
  {
   "cell_type": "markdown",
   "metadata": {},
   "source": [
    "## Models coeffs for features"
   ]
  },
  {
   "cell_type": "code",
   "execution_count": 1714,
   "metadata": {},
   "outputs": [
    {
     "data": {
      "text/html": [
       "<div>\n",
       "<style scoped>\n",
       "    .dataframe tbody tr th:only-of-type {\n",
       "        vertical-align: middle;\n",
       "    }\n",
       "\n",
       "    .dataframe tbody tr th {\n",
       "        vertical-align: top;\n",
       "    }\n",
       "\n",
       "    .dataframe thead th {\n",
       "        text-align: right;\n",
       "    }\n",
       "</style>\n",
       "<table border=\"1\" class=\"dataframe\">\n",
       "  <thead>\n",
       "    <tr style=\"text-align: right;\">\n",
       "      <th></th>\n",
       "      <th>features</th>\n",
       "      <th>model 0</th>\n",
       "      <th>model 1</th>\n",
       "      <th>model 2</th>\n",
       "      <th>model 3</th>\n",
       "      <th>model 4</th>\n",
       "      <th>model 5</th>\n",
       "      <th>model 6</th>\n",
       "    </tr>\n",
       "  </thead>\n",
       "  <tbody>\n",
       "    <tr>\n",
       "      <th>0</th>\n",
       "      <td>Grain</td>\n",
       "      <td>0.238878</td>\n",
       "      <td>0.000000</td>\n",
       "      <td>0.000000</td>\n",
       "      <td>0.000000</td>\n",
       "      <td>0.000000</td>\n",
       "      <td>0.000000</td>\n",
       "      <td>0.584027</td>\n",
       "    </tr>\n",
       "    <tr>\n",
       "      <th>1</th>\n",
       "      <td>Other crop</td>\n",
       "      <td>2.299077</td>\n",
       "      <td>2.247167</td>\n",
       "      <td>2.098683</td>\n",
       "      <td>2.218096</td>\n",
       "      <td>2.328707</td>\n",
       "      <td>3.260662</td>\n",
       "      <td>0.702486</td>\n",
       "    </tr>\n",
       "    <tr>\n",
       "      <th>2</th>\n",
       "      <td>Mining industry</td>\n",
       "      <td>0.033966</td>\n",
       "      <td>0.236458</td>\n",
       "      <td>0.044669</td>\n",
       "      <td>0.177174</td>\n",
       "      <td>0.000000</td>\n",
       "      <td>0.000000</td>\n",
       "      <td>0.114619</td>\n",
       "    </tr>\n",
       "    <tr>\n",
       "      <th>3</th>\n",
       "      <td>Other Industry</td>\n",
       "      <td>0.000000</td>\n",
       "      <td>0.000000</td>\n",
       "      <td>0.000000</td>\n",
       "      <td>0.000000</td>\n",
       "      <td>0.000000</td>\n",
       "      <td>0.459811</td>\n",
       "      <td>0.590988</td>\n",
       "    </tr>\n",
       "    <tr>\n",
       "      <th>4</th>\n",
       "      <td>Petroleum Products</td>\n",
       "      <td>4.289872</td>\n",
       "      <td>0.000000</td>\n",
       "      <td>3.548532</td>\n",
       "      <td>0.050368</td>\n",
       "      <td>1.788955</td>\n",
       "      <td>3.820027</td>\n",
       "      <td>0.000000</td>\n",
       "    </tr>\n",
       "    <tr>\n",
       "      <th>5</th>\n",
       "      <td>Mineral  products</td>\n",
       "      <td>16.213438</td>\n",
       "      <td>17.408208</td>\n",
       "      <td>12.708773</td>\n",
       "      <td>15.344255</td>\n",
       "      <td>15.889318</td>\n",
       "      <td>12.607370</td>\n",
       "      <td>13.415708</td>\n",
       "    </tr>\n",
       "    <tr>\n",
       "      <th>6</th>\n",
       "      <td>Metallurgy</td>\n",
       "      <td>2.238386</td>\n",
       "      <td>1.837900</td>\n",
       "      <td>2.053020</td>\n",
       "      <td>2.428084</td>\n",
       "      <td>2.617975</td>\n",
       "      <td>2.548003</td>\n",
       "      <td>2.996999</td>\n",
       "    </tr>\n",
       "    <tr>\n",
       "      <th>7</th>\n",
       "      <td>Animal Husbandry</td>\n",
       "      <td>0.000000</td>\n",
       "      <td>0.000000</td>\n",
       "      <td>0.000000</td>\n",
       "      <td>0.000000</td>\n",
       "      <td>0.000000</td>\n",
       "      <td>0.000000</td>\n",
       "      <td>0.000000</td>\n",
       "    </tr>\n",
       "    <tr>\n",
       "      <th>8</th>\n",
       "      <td>Waste</td>\n",
       "      <td>0.165589</td>\n",
       "      <td>0.107607</td>\n",
       "      <td>0.145009</td>\n",
       "      <td>0.091966</td>\n",
       "      <td>0.136183</td>\n",
       "      <td>0.137774</td>\n",
       "      <td>0.074096</td>\n",
       "    </tr>\n",
       "    <tr>\n",
       "      <th>9</th>\n",
       "      <td>Population</td>\n",
       "      <td>0.304226</td>\n",
       "      <td>0.000000</td>\n",
       "      <td>1.125901</td>\n",
       "      <td>0.326391</td>\n",
       "      <td>0.553599</td>\n",
       "      <td>0.000000</td>\n",
       "      <td>0.147904</td>\n",
       "    </tr>\n",
       "    <tr>\n",
       "      <th>10</th>\n",
       "      <td>GDP</td>\n",
       "      <td>0.034750</td>\n",
       "      <td>0.057628</td>\n",
       "      <td>0.111454</td>\n",
       "      <td>0.118675</td>\n",
       "      <td>0.039084</td>\n",
       "      <td>0.034230</td>\n",
       "      <td>0.277052</td>\n",
       "    </tr>\n",
       "    <tr>\n",
       "      <th>11</th>\n",
       "      <td>Import</td>\n",
       "      <td>1.039759</td>\n",
       "      <td>1.450762</td>\n",
       "      <td>1.007207</td>\n",
       "      <td>0.847132</td>\n",
       "      <td>1.087572</td>\n",
       "      <td>1.043556</td>\n",
       "      <td>0.792801</td>\n",
       "    </tr>\n",
       "  </tbody>\n",
       "</table>\n",
       "</div>"
      ],
      "text/plain": [
       "              features    model 0    model 1    model 2    model 3    model 4  \\\n",
       "0                Grain   0.238878   0.000000   0.000000   0.000000   0.000000   \n",
       "1           Other crop   2.299077   2.247167   2.098683   2.218096   2.328707   \n",
       "2      Mining industry   0.033966   0.236458   0.044669   0.177174   0.000000   \n",
       "3       Other Industry   0.000000   0.000000   0.000000   0.000000   0.000000   \n",
       "4   Petroleum Products   4.289872   0.000000   3.548532   0.050368   1.788955   \n",
       "5    Mineral  products  16.213438  17.408208  12.708773  15.344255  15.889318   \n",
       "6           Metallurgy   2.238386   1.837900   2.053020   2.428084   2.617975   \n",
       "7     Animal Husbandry   0.000000   0.000000   0.000000   0.000000   0.000000   \n",
       "8                Waste   0.165589   0.107607   0.145009   0.091966   0.136183   \n",
       "9           Population   0.304226   0.000000   1.125901   0.326391   0.553599   \n",
       "10                 GDP   0.034750   0.057628   0.111454   0.118675   0.039084   \n",
       "11              Import   1.039759   1.450762   1.007207   0.847132   1.087572   \n",
       "\n",
       "      model 5    model 6  \n",
       "0    0.000000   0.584027  \n",
       "1    3.260662   0.702486  \n",
       "2    0.000000   0.114619  \n",
       "3    0.459811   0.590988  \n",
       "4    3.820027   0.000000  \n",
       "5   12.607370  13.415708  \n",
       "6    2.548003   2.996999  \n",
       "7    0.000000   0.000000  \n",
       "8    0.137774   0.074096  \n",
       "9    0.000000   0.147904  \n",
       "10   0.034230   0.277052  \n",
       "11   1.043556   0.792801  "
      ]
     },
     "execution_count": 1714,
     "metadata": {},
     "output_type": "execute_result"
    }
   ],
   "source": [
    "models_coeffs = pd.DataFrame(x.columns[1:])\n",
    "for model in scores['estimator']:\n",
    "    models_coeffs = pd.concat([models_coeffs, pd.DataFrame(list(model.coef_))], axis = 1)\n",
    "models_coeffs.columns = ['features'] + ['model ' + str(i) for i in range(7)]\n",
    "models_coeffs"
   ]
  },
  {
   "cell_type": "code",
   "execution_count": 1715,
   "metadata": {},
   "outputs": [
    {
     "data": {
      "text/html": [
       "<style  type=\"text/css\" >\n",
       "#T_009f89b2_5730_11eb_8119_00155d045b04row0_col0,#T_009f89b2_5730_11eb_8119_00155d045b04row0_col1,#T_009f89b2_5730_11eb_8119_00155d045b04row1_col0,#T_009f89b2_5730_11eb_8119_00155d045b04row1_col1,#T_009f89b2_5730_11eb_8119_00155d045b04row2_col0,#T_009f89b2_5730_11eb_8119_00155d045b04row2_col1,#T_009f89b2_5730_11eb_8119_00155d045b04row4_col0,#T_009f89b2_5730_11eb_8119_00155d045b04row4_col1,#T_009f89b2_5730_11eb_8119_00155d045b04row5_col0,#T_009f89b2_5730_11eb_8119_00155d045b04row5_col1,#T_009f89b2_5730_11eb_8119_00155d045b04row6_col0,#T_009f89b2_5730_11eb_8119_00155d045b04row6_col1,#T_009f89b2_5730_11eb_8119_00155d045b04row8_col0,#T_009f89b2_5730_11eb_8119_00155d045b04row8_col1,#T_009f89b2_5730_11eb_8119_00155d045b04row9_col0,#T_009f89b2_5730_11eb_8119_00155d045b04row9_col1,#T_009f89b2_5730_11eb_8119_00155d045b04row10_col0,#T_009f89b2_5730_11eb_8119_00155d045b04row10_col1,#T_009f89b2_5730_11eb_8119_00155d045b04row11_col0,#T_009f89b2_5730_11eb_8119_00155d045b04row11_col1{\n",
       "            background-color:  yellow;\n",
       "        }</style><table id=\"T_009f89b2_5730_11eb_8119_00155d045b04\" ><thead>    <tr>        <th class=\"blank level0\" ></th>        <th class=\"col_heading level0 col0\" >feature</th>        <th class=\"col_heading level0 col1\" >weight</th>    </tr></thead><tbody>\n",
       "                <tr>\n",
       "                        <th id=\"T_009f89b2_5730_11eb_8119_00155d045b04level0_row0\" class=\"row_heading level0 row0\" >0</th>\n",
       "                        <td id=\"T_009f89b2_5730_11eb_8119_00155d045b04row0_col0\" class=\"data row0 col0\" >Grain</td>\n",
       "                        <td id=\"T_009f89b2_5730_11eb_8119_00155d045b04row0_col1\" class=\"data row0 col1\" >0.238878</td>\n",
       "            </tr>\n",
       "            <tr>\n",
       "                        <th id=\"T_009f89b2_5730_11eb_8119_00155d045b04level0_row1\" class=\"row_heading level0 row1\" >1</th>\n",
       "                        <td id=\"T_009f89b2_5730_11eb_8119_00155d045b04row1_col0\" class=\"data row1 col0\" >Other crop</td>\n",
       "                        <td id=\"T_009f89b2_5730_11eb_8119_00155d045b04row1_col1\" class=\"data row1 col1\" >2.299077</td>\n",
       "            </tr>\n",
       "            <tr>\n",
       "                        <th id=\"T_009f89b2_5730_11eb_8119_00155d045b04level0_row2\" class=\"row_heading level0 row2\" >2</th>\n",
       "                        <td id=\"T_009f89b2_5730_11eb_8119_00155d045b04row2_col0\" class=\"data row2 col0\" >Mining industry</td>\n",
       "                        <td id=\"T_009f89b2_5730_11eb_8119_00155d045b04row2_col1\" class=\"data row2 col1\" >0.033966</td>\n",
       "            </tr>\n",
       "            <tr>\n",
       "                        <th id=\"T_009f89b2_5730_11eb_8119_00155d045b04level0_row3\" class=\"row_heading level0 row3\" >3</th>\n",
       "                        <td id=\"T_009f89b2_5730_11eb_8119_00155d045b04row3_col0\" class=\"data row3 col0\" >Other Industry</td>\n",
       "                        <td id=\"T_009f89b2_5730_11eb_8119_00155d045b04row3_col1\" class=\"data row3 col1\" >0.000000</td>\n",
       "            </tr>\n",
       "            <tr>\n",
       "                        <th id=\"T_009f89b2_5730_11eb_8119_00155d045b04level0_row4\" class=\"row_heading level0 row4\" >4</th>\n",
       "                        <td id=\"T_009f89b2_5730_11eb_8119_00155d045b04row4_col0\" class=\"data row4 col0\" >Petroleum Products</td>\n",
       "                        <td id=\"T_009f89b2_5730_11eb_8119_00155d045b04row4_col1\" class=\"data row4 col1\" >4.289872</td>\n",
       "            </tr>\n",
       "            <tr>\n",
       "                        <th id=\"T_009f89b2_5730_11eb_8119_00155d045b04level0_row5\" class=\"row_heading level0 row5\" >5</th>\n",
       "                        <td id=\"T_009f89b2_5730_11eb_8119_00155d045b04row5_col0\" class=\"data row5 col0\" >Mineral  products</td>\n",
       "                        <td id=\"T_009f89b2_5730_11eb_8119_00155d045b04row5_col1\" class=\"data row5 col1\" >16.213438</td>\n",
       "            </tr>\n",
       "            <tr>\n",
       "                        <th id=\"T_009f89b2_5730_11eb_8119_00155d045b04level0_row6\" class=\"row_heading level0 row6\" >6</th>\n",
       "                        <td id=\"T_009f89b2_5730_11eb_8119_00155d045b04row6_col0\" class=\"data row6 col0\" >Metallurgy</td>\n",
       "                        <td id=\"T_009f89b2_5730_11eb_8119_00155d045b04row6_col1\" class=\"data row6 col1\" >2.238386</td>\n",
       "            </tr>\n",
       "            <tr>\n",
       "                        <th id=\"T_009f89b2_5730_11eb_8119_00155d045b04level0_row7\" class=\"row_heading level0 row7\" >7</th>\n",
       "                        <td id=\"T_009f89b2_5730_11eb_8119_00155d045b04row7_col0\" class=\"data row7 col0\" >Animal Husbandry</td>\n",
       "                        <td id=\"T_009f89b2_5730_11eb_8119_00155d045b04row7_col1\" class=\"data row7 col1\" >0.000000</td>\n",
       "            </tr>\n",
       "            <tr>\n",
       "                        <th id=\"T_009f89b2_5730_11eb_8119_00155d045b04level0_row8\" class=\"row_heading level0 row8\" >8</th>\n",
       "                        <td id=\"T_009f89b2_5730_11eb_8119_00155d045b04row8_col0\" class=\"data row8 col0\" >Waste</td>\n",
       "                        <td id=\"T_009f89b2_5730_11eb_8119_00155d045b04row8_col1\" class=\"data row8 col1\" >0.165589</td>\n",
       "            </tr>\n",
       "            <tr>\n",
       "                        <th id=\"T_009f89b2_5730_11eb_8119_00155d045b04level0_row9\" class=\"row_heading level0 row9\" >9</th>\n",
       "                        <td id=\"T_009f89b2_5730_11eb_8119_00155d045b04row9_col0\" class=\"data row9 col0\" >Population</td>\n",
       "                        <td id=\"T_009f89b2_5730_11eb_8119_00155d045b04row9_col1\" class=\"data row9 col1\" >0.304226</td>\n",
       "            </tr>\n",
       "            <tr>\n",
       "                        <th id=\"T_009f89b2_5730_11eb_8119_00155d045b04level0_row10\" class=\"row_heading level0 row10\" >10</th>\n",
       "                        <td id=\"T_009f89b2_5730_11eb_8119_00155d045b04row10_col0\" class=\"data row10 col0\" >GDP</td>\n",
       "                        <td id=\"T_009f89b2_5730_11eb_8119_00155d045b04row10_col1\" class=\"data row10 col1\" >0.034750</td>\n",
       "            </tr>\n",
       "            <tr>\n",
       "                        <th id=\"T_009f89b2_5730_11eb_8119_00155d045b04level0_row11\" class=\"row_heading level0 row11\" >11</th>\n",
       "                        <td id=\"T_009f89b2_5730_11eb_8119_00155d045b04row11_col0\" class=\"data row11 col0\" >Import</td>\n",
       "                        <td id=\"T_009f89b2_5730_11eb_8119_00155d045b04row11_col1\" class=\"data row11 col1\" >1.039759</td>\n",
       "            </tr>\n",
       "    </tbody></table>"
      ],
      "text/plain": [
       "<pandas.io.formats.style.Styler at 0x7fc2fec20cf8>"
      ]
     },
     "execution_count": 1715,
     "metadata": {},
     "output_type": "execute_result"
    }
   ],
   "source": [
    "def highlight_greaterthan(s, threshold, column):\n",
    "    is_max = pd.Series(data=False, index=s.index)\n",
    "    is_max[column] = s.loc[column] >= threshold\n",
    "    return ['background-color: yellow' if is_max.any() else '' for v in is_max]\n",
    "\n",
    "best_model_coefficients = models_coeffs[['features', 'model 0']]\n",
    "best_model_coefficients.columns = ['feature', 'weight']\n",
    "best_model_coefficients['weight'].astype('float')\n",
    "\n",
    " \n",
    "\n",
    "best_model_coefficients.style.apply(highlight_greaterthan, threshold=0.0001, column=['weight'], axis=1)"
   ]
  },
  {
   "cell_type": "code",
   "execution_count": 1718,
   "metadata": {},
   "outputs": [
    {
     "name": "stdout",
     "output_type": "stream",
     "text": [
      "sum of ablolute difference 70.00623150017643\n"
     ]
    }
   ],
   "source": [
    "model =  scores['estimator'][0]\n",
    "df = pd.concat([pd.DataFrame(model.predict(x_np), columns = ['Predicted']), pd.DataFrame(y_np[:, 0], columns = ['Measured']).astype(float)], axis = 1)\n",
    "df['oblast'] = y['oblast']\n",
    "df['diff'] = abs(df['Predicted'] - df['Measured'])\n",
    "df['percent'] = df['diff']/df['Measured']\n",
    "print('sum of ablolute difference', df['diff'].sum())\n",
    "#list(zip(x.columns[1:], model.coef_))"
   ]
  },
  {
   "cell_type": "markdown",
   "metadata": {},
   "source": [
    "# Results of built model"
   ]
  },
  {
   "cell_type": "markdown",
   "metadata": {},
   "source": [
    "#### Measured and predicted attraction comparison"
   ]
  },
  {
   "cell_type": "code",
   "execution_count": 1717,
   "metadata": {
    "jupyter": {
     "source_hidden": true
    }
   },
   "outputs": [
    {
     "data": {
      "text/html": [
       "<div>\n",
       "<style scoped>\n",
       "    .dataframe tbody tr th:only-of-type {\n",
       "        vertical-align: middle;\n",
       "    }\n",
       "\n",
       "    .dataframe tbody tr th {\n",
       "        vertical-align: top;\n",
       "    }\n",
       "\n",
       "    .dataframe thead th {\n",
       "        text-align: right;\n",
       "    }\n",
       "</style>\n",
       "<table border=\"1\" class=\"dataframe\">\n",
       "  <thead>\n",
       "    <tr style=\"text-align: right;\">\n",
       "      <th></th>\n",
       "      <th>Predicted</th>\n",
       "      <th>Measured</th>\n",
       "      <th>oblast</th>\n",
       "      <th>diff</th>\n",
       "      <th>percent</th>\n",
       "    </tr>\n",
       "  </thead>\n",
       "  <tbody>\n",
       "    <tr>\n",
       "      <th>0</th>\n",
       "      <td>11.859214</td>\n",
       "      <td>12.809762</td>\n",
       "      <td>Cherkaska</td>\n",
       "      <td>0.950548</td>\n",
       "      <td>0.074205</td>\n",
       "    </tr>\n",
       "    <tr>\n",
       "      <th>1</th>\n",
       "      <td>7.168689</td>\n",
       "      <td>10.401013</td>\n",
       "      <td>Chernihivska</td>\n",
       "      <td>3.232325</td>\n",
       "      <td>0.310770</td>\n",
       "    </tr>\n",
       "    <tr>\n",
       "      <th>2</th>\n",
       "      <td>9.812032</td>\n",
       "      <td>5.204956</td>\n",
       "      <td>Chernivetska</td>\n",
       "      <td>4.607076</td>\n",
       "      <td>0.885132</td>\n",
       "    </tr>\n",
       "    <tr>\n",
       "      <th>3</th>\n",
       "      <td>98.303140</td>\n",
       "      <td>91.600460</td>\n",
       "      <td>Dnipropetrovska</td>\n",
       "      <td>6.702680</td>\n",
       "      <td>0.073173</td>\n",
       "    </tr>\n",
       "    <tr>\n",
       "      <th>4</th>\n",
       "      <td>42.949754</td>\n",
       "      <td>45.276027</td>\n",
       "      <td>Donetska</td>\n",
       "      <td>2.326273</td>\n",
       "      <td>0.051380</td>\n",
       "    </tr>\n",
       "    <tr>\n",
       "      <th>5</th>\n",
       "      <td>11.566368</td>\n",
       "      <td>12.416437</td>\n",
       "      <td>Ivano-Frankivska</td>\n",
       "      <td>0.850069</td>\n",
       "      <td>0.068463</td>\n",
       "    </tr>\n",
       "    <tr>\n",
       "      <th>6</th>\n",
       "      <td>47.997247</td>\n",
       "      <td>43.015506</td>\n",
       "      <td>Kharkivska</td>\n",
       "      <td>4.981742</td>\n",
       "      <td>0.115813</td>\n",
       "    </tr>\n",
       "    <tr>\n",
       "      <th>7</th>\n",
       "      <td>10.913176</td>\n",
       "      <td>12.936792</td>\n",
       "      <td>Khersonska</td>\n",
       "      <td>2.023616</td>\n",
       "      <td>0.156423</td>\n",
       "    </tr>\n",
       "    <tr>\n",
       "      <th>8</th>\n",
       "      <td>19.212801</td>\n",
       "      <td>17.771067</td>\n",
       "      <td>Khmelnytska</td>\n",
       "      <td>1.441734</td>\n",
       "      <td>0.081128</td>\n",
       "    </tr>\n",
       "    <tr>\n",
       "      <th>9</th>\n",
       "      <td>16.707716</td>\n",
       "      <td>15.682634</td>\n",
       "      <td>Kirovohradska</td>\n",
       "      <td>1.025082</td>\n",
       "      <td>0.065364</td>\n",
       "    </tr>\n",
       "    <tr>\n",
       "      <th>10</th>\n",
       "      <td>47.360578</td>\n",
       "      <td>47.587271</td>\n",
       "      <td>Kyivska</td>\n",
       "      <td>0.226693</td>\n",
       "      <td>0.004764</td>\n",
       "    </tr>\n",
       "    <tr>\n",
       "      <th>11</th>\n",
       "      <td>5.894758</td>\n",
       "      <td>3.708108</td>\n",
       "      <td>Luhanska</td>\n",
       "      <td>2.186650</td>\n",
       "      <td>0.589694</td>\n",
       "    </tr>\n",
       "    <tr>\n",
       "      <th>12</th>\n",
       "      <td>20.685380</td>\n",
       "      <td>20.500434</td>\n",
       "      <td>Lvivska</td>\n",
       "      <td>0.184946</td>\n",
       "      <td>0.009022</td>\n",
       "    </tr>\n",
       "    <tr>\n",
       "      <th>13</th>\n",
       "      <td>17.479313</td>\n",
       "      <td>17.412398</td>\n",
       "      <td>Mykolaivska</td>\n",
       "      <td>0.066916</td>\n",
       "      <td>0.003843</td>\n",
       "    </tr>\n",
       "    <tr>\n",
       "      <th>14</th>\n",
       "      <td>29.232350</td>\n",
       "      <td>30.589218</td>\n",
       "      <td>Odeska</td>\n",
       "      <td>1.356868</td>\n",
       "      <td>0.044358</td>\n",
       "    </tr>\n",
       "    <tr>\n",
       "      <th>15</th>\n",
       "      <td>26.511368</td>\n",
       "      <td>27.147015</td>\n",
       "      <td>Poltavska</td>\n",
       "      <td>0.635646</td>\n",
       "      <td>0.023415</td>\n",
       "    </tr>\n",
       "    <tr>\n",
       "      <th>16</th>\n",
       "      <td>14.285929</td>\n",
       "      <td>14.377486</td>\n",
       "      <td>Rivnenska</td>\n",
       "      <td>0.091557</td>\n",
       "      <td>0.006368</td>\n",
       "    </tr>\n",
       "    <tr>\n",
       "      <th>17</th>\n",
       "      <td>13.820827</td>\n",
       "      <td>17.480848</td>\n",
       "      <td>Sumska</td>\n",
       "      <td>3.660021</td>\n",
       "      <td>0.209373</td>\n",
       "    </tr>\n",
       "    <tr>\n",
       "      <th>18</th>\n",
       "      <td>13.007505</td>\n",
       "      <td>11.613889</td>\n",
       "      <td>Ternopilska</td>\n",
       "      <td>1.393616</td>\n",
       "      <td>0.119996</td>\n",
       "    </tr>\n",
       "    <tr>\n",
       "      <th>19</th>\n",
       "      <td>21.514293</td>\n",
       "      <td>17.772337</td>\n",
       "      <td>Vinnytska</td>\n",
       "      <td>3.741957</td>\n",
       "      <td>0.210550</td>\n",
       "    </tr>\n",
       "    <tr>\n",
       "      <th>20</th>\n",
       "      <td>12.115267</td>\n",
       "      <td>4.971255</td>\n",
       "      <td>Volynska</td>\n",
       "      <td>7.144012</td>\n",
       "      <td>1.437064</td>\n",
       "    </tr>\n",
       "    <tr>\n",
       "      <th>21</th>\n",
       "      <td>5.960980</td>\n",
       "      <td>7.121490</td>\n",
       "      <td>Zakarpatska</td>\n",
       "      <td>1.160510</td>\n",
       "      <td>0.162959</td>\n",
       "    </tr>\n",
       "    <tr>\n",
       "      <th>22</th>\n",
       "      <td>26.251647</td>\n",
       "      <td>22.481675</td>\n",
       "      <td>Zaporizka</td>\n",
       "      <td>3.769972</td>\n",
       "      <td>0.167691</td>\n",
       "    </tr>\n",
       "    <tr>\n",
       "      <th>23</th>\n",
       "      <td>21.850937</td>\n",
       "      <td>38.096660</td>\n",
       "      <td>Zhytomyrska</td>\n",
       "      <td>16.245723</td>\n",
       "      <td>0.426434</td>\n",
       "    </tr>\n",
       "  </tbody>\n",
       "</table>\n",
       "</div>"
      ],
      "text/plain": [
       "    Predicted   Measured            oblast       diff   percent\n",
       "0   11.859214  12.809762         Cherkaska   0.950548  0.074205\n",
       "1    7.168689  10.401013      Chernihivska   3.232325  0.310770\n",
       "2    9.812032   5.204956      Chernivetska   4.607076  0.885132\n",
       "3   98.303140  91.600460   Dnipropetrovska   6.702680  0.073173\n",
       "4   42.949754  45.276027          Donetska   2.326273  0.051380\n",
       "5   11.566368  12.416437  Ivano-Frankivska   0.850069  0.068463\n",
       "6   47.997247  43.015506        Kharkivska   4.981742  0.115813\n",
       "7   10.913176  12.936792        Khersonska   2.023616  0.156423\n",
       "8   19.212801  17.771067       Khmelnytska   1.441734  0.081128\n",
       "9   16.707716  15.682634     Kirovohradska   1.025082  0.065364\n",
       "10  47.360578  47.587271           Kyivska   0.226693  0.004764\n",
       "11   5.894758   3.708108          Luhanska   2.186650  0.589694\n",
       "12  20.685380  20.500434           Lvivska   0.184946  0.009022\n",
       "13  17.479313  17.412398       Mykolaivska   0.066916  0.003843\n",
       "14  29.232350  30.589218            Odeska   1.356868  0.044358\n",
       "15  26.511368  27.147015         Poltavska   0.635646  0.023415\n",
       "16  14.285929  14.377486         Rivnenska   0.091557  0.006368\n",
       "17  13.820827  17.480848            Sumska   3.660021  0.209373\n",
       "18  13.007505  11.613889       Ternopilska   1.393616  0.119996\n",
       "19  21.514293  17.772337         Vinnytska   3.741957  0.210550\n",
       "20  12.115267   4.971255          Volynska   7.144012  1.437064\n",
       "21   5.960980   7.121490       Zakarpatska   1.160510  0.162959\n",
       "22  26.251647  22.481675         Zaporizka   3.769972  0.167691\n",
       "23  21.850937  38.096660       Zhytomyrska  16.245723  0.426434"
      ]
     },
     "execution_count": 1717,
     "metadata": {},
     "output_type": "execute_result"
    }
   ],
   "source": [
    "df"
   ]
  },
  {
   "cell_type": "code",
   "execution_count": 1674,
   "metadata": {
    "jupyter": {
     "source_hidden": true
    }
   },
   "outputs": [
    {
     "data": {
      "image/png": "[encoded data removed]",
      "text/plain": [
       "<Figure size 432x288 with 1 Axes>"
      ]
     },
     "metadata": {
      "needs_background": "light"
     },
     "output_type": "display_data"
    }
   ],
   "source": [
    "plt.plot(df['Measured'], df['Predicted'], 'ro')\n",
    "xpoints = ypoints = plt.xlim()\n",
    "plt.plot(xpoints, ypoints, 'b-')\n",
    "plt.xlabel('Measured generation')\n",
    "plt.ylabel('Predicted generation')\n",
    "plt.title('Measured/Predicted Dependency')\n",
    "red_patch = mpatches.Patch(color='red', label='Model data')\n",
    "blue_patch = mpatches.Patch(color='blue', label='Linear Dependency')\n",
    "plt.legend(handles=[red_patch, blue_patch])\n",
    "plt.show()"
   ]
  },
  {
   "cell_type": "code",
   "execution_count": 1675,
   "metadata": {
    "jupyter": {
     "source_hidden": true
    }
   },
   "outputs": [
    {
     "data": {
      "application/vnd.plotly.v1+json": {
       "config": {
        "plotlyServerURL": "https://plot.ly"
       },
       "data": [
        {
         "name": "Measured generation",
         "type": "bar",
         "x": [
          "Cherkaska",
          "Chernihivska",
          "Chernivetska",
          "Dnipropetrovska",
          "Donetska",
          "Ivano-Frankivska",
          "Kharkivska",
          "Khersonska",
          "Khmelnytska",
          "Kirovohradska",
          "Kyivska",
          "Luhanska",
          "Lvivska",
          "Mykolaivska",
          "Odeska",
          "Poltavska",
          "Rivnenska",
          "Sumska",
          "Ternopilska",
          "Vinnytska",
          "Volynska",
          "Zakarpatska",
          "Zaporizka",
          "Zhytomyrska"
         ],
         "y": [
          12.809761562550374,
          10.40101338757132,
          5.2049563777295935,
          91.60045998436233,
          45.27602687418845,
          12.416437370293428,
          43.01550555332314,
          12.93679169425263,
          17.771067199165724,
          15.682634019920975,
          47.587271289436636,
          3.708108007952317,
          20.500433939231026,
          17.412397763540575,
          30.589217885715854,
          27.147014628854677,
          14.377486051573545,
          17.480848499838206,
          11.61388850132241,
          17.772336566414072,
          4.971254735938271,
          7.121489838332966,
          22.481674868006092,
          38.09665991106734
         ]
        },
        {
         "name": "Predicted generation",
         "type": "bar",
         "x": [
          "Cherkaska",
          "Chernihivska",
          "Chernivetska",
          "Dnipropetrovska",
          "Donetska",
          "Ivano-Frankivska",
          "Kharkivska",
          "Khersonska",
          "Khmelnytska",
          "Kirovohradska",
          "Kyivska",
          "Luhanska",
          "Lvivska",
          "Mykolaivska",
          "Odeska",
          "Poltavska",
          "Rivnenska",
          "Sumska",
          "Ternopilska",
          "Vinnytska",
          "Volynska",
          "Zakarpatska",
          "Zaporizka",
          "Zhytomyrska"
         ],
         "y": [
          11.859213849706261,
          7.168688555446737,
          9.81203190477314,
          98.30314014508845,
          42.949753631142045,
          11.566367914289852,
          47.99724720310802,
          10.913175911490626,
          19.21280075811713,
          16.70771626414049,
          47.36057820804359,
          5.894758347223892,
          20.685380003403885,
          17.479313295589225,
          29.232349637195437,
          26.51136814762111,
          14.285929323444474,
          13.820827025177262,
          13.007504577407296,
          21.514293444563194,
          12.115266834054069,
          5.960980106719388,
          26.251646576159445,
          21.85093701994393
         ]
        }
       ],
       "layout": {
        "autosize": true,
        "barmode": "group",
        "template": {
         "data": {
          "bar": [
           {
            "error_x": {
             "color": "#2a3f5f"
            },
            "error_y": {
             "color": "#2a3f5f"
            },
            "marker": {
             "line": {
              "color": "#E5ECF6",
              "width": 0.5
             }
            },
            "type": "bar"
           }
          ],
          "barpolar": [
           {
            "marker": {
             "line": {
              "color": "#E5ECF6",
              "width": 0.5
             }
            },
            "type": "barpolar"
           }
          ],
          "carpet": [
           {
            "aaxis": {
             "endlinecolor": "#2a3f5f",
             "gridcolor": "white",
             "linecolor": "white",
             "minorgridcolor": "white",
             "startlinecolor": "#2a3f5f"
            },
            "baxis": {
             "endlinecolor": "#2a3f5f",
             "gridcolor": "white",
             "linecolor": "white",
             "minorgridcolor": "white",
             "startlinecolor": "#2a3f5f"
            },
            "type": "carpet"
           }
          ],
          "choropleth": [
           {
            "colorbar": {
             "outlinewidth": 0,
             "ticks": ""
            },
            "type": "choropleth"
           }
          ],
          "contour": [
           {
            "colorbar": {
             "outlinewidth": 0,
             "ticks": ""
            },
            "colorscale": [
             [
              0,
              "#0d0887"
             ],
             [
              0.1111111111111111,
              "#46039f"
             ],
             [
              0.2222222222222222,
              "#7201a8"
             ],
             [
              0.3333333333333333,
              "#9c179e"
             ],
             [
              0.4444444444444444,
              "#bd3786"
             ],
             [
              0.5555555555555556,
              "#d8576b"
             ],
             [
              0.6666666666666666,
              "#ed7953"
             ],
             [
              0.7777777777777778,
              "#fb9f3a"
             ],
             [
              0.8888888888888888,
              "#fdca26"
             ],
             [
              1,
              "#f0f921"
             ]
            ],
            "type": "contour"
           }
          ],
          "contourcarpet": [
           {
            "colorbar": {
             "outlinewidth": 0,
             "ticks": ""
            },
            "type": "contourcarpet"
           }
          ],
          "heatmap": [
           {
            "colorbar": {
             "outlinewidth": 0,
             "ticks": ""
            },
            "colorscale": [
             [
              0,
              "#0d0887"
             ],
             [
              0.1111111111111111,
              "#46039f"
             ],
             [
              0.2222222222222222,
              "#7201a8"
             ],
             [
              0.3333333333333333,
              "#9c179e"
             ],
             [
              0.4444444444444444,
              "#bd3786"
             ],
             [
              0.5555555555555556,
              "#d8576b"
             ],
             [
              0.6666666666666666,
              "#ed7953"
             ],
             [
              0.7777777777777778,
              "#fb9f3a"
             ],
             [
              0.8888888888888888,
              "#fdca26"
             ],
             [
              1,
              "#f0f921"
             ]
            ],
            "type": "heatmap"
           }
          ],
          "heatmapgl": [
           {
            "colorbar": {
             "outlinewidth": 0,
             "ticks": ""
            },
            "colorscale": [
             [
              0,
              "#0d0887"
             ],
             [
              0.1111111111111111,
              "#46039f"
             ],
             [
              0.2222222222222222,
              "#7201a8"
             ],
             [
              0.3333333333333333,
              "#9c179e"
             ],
             [
              0.4444444444444444,
              "#bd3786"
             ],
             [
              0.5555555555555556,
              "#d8576b"
             ],
             [
              0.6666666666666666,
              "#ed7953"
             ],
             [
              0.7777777777777778,
              "#fb9f3a"
             ],
             [
              0.8888888888888888,
              "#fdca26"
             ],
             [
              1,
              "#f0f921"
             ]
            ],
            "type": "heatmapgl"
           }
          ],
          "histogram": [
           {
            "marker": {
             "colorbar": {
              "outlinewidth": 0,
              "ticks": ""
             }
            },
            "type": "histogram"
           }
          ],
          "histogram2d": [
           {
            "colorbar": {
             "outlinewidth": 0,
             "ticks": ""
            },
            "colorscale": [
             [
              0,
              "#0d0887"
             ],
             [
              0.1111111111111111,
              "#46039f"
             ],
             [
              0.2222222222222222,
              "#7201a8"
             ],
             [
              0.3333333333333333,
              "#9c179e"
             ],
             [
              0.4444444444444444,
              "#bd3786"
             ],
             [
              0.5555555555555556,
              "#d8576b"
             ],
             [
              0.6666666666666666,
              "#ed7953"
             ],
             [
              0.7777777777777778,
              "#fb9f3a"
             ],
             [
              0.8888888888888888,
              "#fdca26"
             ],
             [
              1,
              "#f0f921"
             ]
            ],
            "type": "histogram2d"
           }
          ],
          "histogram2dcontour": [
           {
            "colorbar": {
             "outlinewidth": 0,
             "ticks": ""
            },
            "colorscale": [
             [
              0,
              "#0d0887"
             ],
             [
              0.1111111111111111,
              "#46039f"
             ],
             [
              0.2222222222222222,
              "#7201a8"
             ],
             [
              0.3333333333333333,
              "#9c179e"
             ],
             [
              0.4444444444444444,
              "#bd3786"
             ],
             [
              0.5555555555555556,
              "#d8576b"
             ],
             [
              0.6666666666666666,
              "#ed7953"
             ],
             [
              0.7777777777777778,
              "#fb9f3a"
             ],
             [
              0.8888888888888888,
              "#fdca26"
             ],
             [
              1,
              "#f0f921"
             ]
            ],
            "type": "histogram2dcontour"
           }
          ],
          "mesh3d": [
           {
            "colorbar": {
             "outlinewidth": 0,
             "ticks": ""
            },
            "type": "mesh3d"
           }
          ],
          "parcoords": [
           {
            "line": {
             "colorbar": {
              "outlinewidth": 0,
              "ticks": ""
             }
            },
            "type": "parcoords"
           }
          ],
          "pie": [
           {
            "automargin": true,
            "type": "pie"
           }
          ],
          "scatter": [
           {
            "marker": {
             "colorbar": {
              "outlinewidth": 0,
              "ticks": ""
             }
            },
            "type": "scatter"
           }
          ],
          "scatter3d": [
           {
            "line": {
             "colorbar": {
              "outlinewidth": 0,
              "ticks": ""
             }
            },
            "marker": {
             "colorbar": {
              "outlinewidth": 0,
              "ticks": ""
             }
            },
            "type": "scatter3d"
           }
          ],
          "scattercarpet": [
           {
            "marker": {
             "colorbar": {
              "outlinewidth": 0,
              "ticks": ""
             }
            },
            "type": "scattercarpet"
           }
          ],
          "scattergeo": [
           {
            "marker": {
             "colorbar": {
              "outlinewidth": 0,
              "ticks": ""
             }
            },
            "type": "scattergeo"
           }
          ],
          "scattergl": [
           {
            "marker": {
             "colorbar": {
              "outlinewidth": 0,
              "ticks": ""
             }
            },
            "type": "scattergl"
           }
          ],
          "scattermapbox": [
           {
            "marker": {
             "colorbar": {
              "outlinewidth": 0,
              "ticks": ""
             }
            },
            "type": "scattermapbox"
           }
          ],
          "scatterpolar": [
           {
            "marker": {
             "colorbar": {
              "outlinewidth": 0,
              "ticks": ""
             }
            },
            "type": "scatterpolar"
           }
          ],
          "scatterpolargl": [
           {
            "marker": {
             "colorbar": {
              "outlinewidth": 0,
              "ticks": ""
             }
            },
            "type": "scatterpolargl"
           }
          ],
          "scatterternary": [
           {
            "marker": {
             "colorbar": {
              "outlinewidth": 0,
              "ticks": ""
             }
            },
            "type": "scatterternary"
           }
          ],
          "surface": [
           {
            "colorbar": {
             "outlinewidth": 0,
             "ticks": ""
            },
            "colorscale": [
             [
              0,
              "#0d0887"
             ],
             [
              0.1111111111111111,
              "#46039f"
             ],
             [
              0.2222222222222222,
              "#7201a8"
             ],
             [
              0.3333333333333333,
              "#9c179e"
             ],
             [
              0.4444444444444444,
              "#bd3786"
             ],
             [
              0.5555555555555556,
              "#d8576b"
             ],
             [
              0.6666666666666666,
              "#ed7953"
             ],
             [
              0.7777777777777778,
              "#fb9f3a"
             ],
             [
              0.8888888888888888,
              "#fdca26"
             ],
             [
              1,
              "#f0f921"
             ]
            ],
            "type": "surface"
           }
          ],
          "table": [
           {
            "cells": {
             "fill": {
              "color": "#EBF0F8"
             },
             "line": {
              "color": "white"
             }
            },
            "header": {
             "fill": {
              "color": "#C8D4E3"
             },
             "line": {
              "color": "white"
             }
            },
            "type": "table"
           }
          ]
         },
         "layout": {
          "annotationdefaults": {
           "arrowcolor": "#2a3f5f",
           "arrowhead": 0,
           "arrowwidth": 1
          },
          "coloraxis": {
           "colorbar": {
            "outlinewidth": 0,
            "ticks": ""
           }
          },
          "colorscale": {
           "diverging": [
            [
             0,
             "#8e0152"
            ],
            [
             0.1,
             "#c51b7d"
            ],
            [
             0.2,
             "#de77ae"
            ],
            [
             0.3,
             "#f1b6da"
            ],
            [
             0.4,
             "#fde0ef"
            ],
            [
             0.5,
             "#f7f7f7"
            ],
            [
             0.6,
             "#e6f5d0"
            ],
            [
             0.7,
             "#b8e186"
            ],
            [
             0.8,
             "#7fbc41"
            ],
            [
             0.9,
             "#4d9221"
            ],
            [
             1,
             "#276419"
            ]
           ],
           "sequential": [
            [
             0,
             "#0d0887"
            ],
            [
             0.1111111111111111,
             "#46039f"
            ],
            [
             0.2222222222222222,
             "#7201a8"
            ],
            [
             0.3333333333333333,
             "#9c179e"
            ],
            [
             0.4444444444444444,
             "#bd3786"
            ],
            [
             0.5555555555555556,
             "#d8576b"
            ],
            [
             0.6666666666666666,
             "#ed7953"
            ],
            [
             0.7777777777777778,
             "#fb9f3a"
            ],
            [
             0.8888888888888888,
             "#fdca26"
            ],
            [
             1,
             "#f0f921"
            ]
           ],
           "sequentialminus": [
            [
             0,
             "#0d0887"
            ],
            [
             0.1111111111111111,
             "#46039f"
            ],
            [
             0.2222222222222222,
             "#7201a8"
            ],
            [
             0.3333333333333333,
             "#9c179e"
            ],
            [
             0.4444444444444444,
             "#bd3786"
            ],
            [
             0.5555555555555556,
             "#d8576b"
            ],
            [
             0.6666666666666666,
             "#ed7953"
            ],
            [
             0.7777777777777778,
             "#fb9f3a"
            ],
            [
             0.8888888888888888,
             "#fdca26"
            ],
            [
             1,
             "#f0f921"
            ]
           ]
          },
          "colorway": [
           "#636efa",
           "#EF553B",
           "#00cc96",
           "#ab63fa",
           "#FFA15A",
           "#19d3f3",
           "#FF6692",
           "#B6E880",
           "#FF97FF",
           "#FECB52"
          ],
          "font": {
           "color": "#2a3f5f"
          },
          "geo": {
           "bgcolor": "white",
           "lakecolor": "white",
           "landcolor": "#E5ECF6",
           "showlakes": true,
           "showland": true,
           "subunitcolor": "white"
          },
          "hoverlabel": {
           "align": "left"
          },
          "hovermode": "closest",
          "mapbox": {
           "style": "light"
          },
          "paper_bgcolor": "white",
          "plot_bgcolor": "#E5ECF6",
          "polar": {
           "angularaxis": {
            "gridcolor": "white",
            "linecolor": "white",
            "ticks": ""
           },
           "bgcolor": "#E5ECF6",
           "radialaxis": {
            "gridcolor": "white",
            "linecolor": "white",
            "ticks": ""
           }
          },
          "scene": {
           "xaxis": {
            "backgroundcolor": "#E5ECF6",
            "gridcolor": "white",
            "gridwidth": 2,
            "linecolor": "white",
            "showbackground": true,
            "ticks": "",
            "zerolinecolor": "white"
           },
           "yaxis": {
            "backgroundcolor": "#E5ECF6",
            "gridcolor": "white",
            "gridwidth": 2,
            "linecolor": "white",
            "showbackground": true,
            "ticks": "",
            "zerolinecolor": "white"
           },
           "zaxis": {
            "backgroundcolor": "#E5ECF6",
            "gridcolor": "white",
            "gridwidth": 2,
            "linecolor": "white",
            "showbackground": true,
            "ticks": "",
            "zerolinecolor": "white"
           }
          },
          "shapedefaults": {
           "line": {
            "color": "#2a3f5f"
           }
          },
          "ternary": {
           "aaxis": {
            "gridcolor": "white",
            "linecolor": "white",
            "ticks": ""
           },
           "baxis": {
            "gridcolor": "white",
            "linecolor": "white",
            "ticks": ""
           },
           "bgcolor": "#E5ECF6",
           "caxis": {
            "gridcolor": "white",
            "linecolor": "white",
            "ticks": ""
           }
          },
          "title": {
           "x": 0.05
          },
          "xaxis": {
           "automargin": true,
           "gridcolor": "white",
           "linecolor": "white",
           "ticks": "",
           "title": {
            "standoff": 15
           },
           "zerolinecolor": "white",
           "zerolinewidth": 2
          },
          "yaxis": {
           "automargin": true,
           "gridcolor": "white",
           "linecolor": "white",
           "ticks": "",
           "title": {
            "standoff": 15
           },
           "zerolinecolor": "white",
           "zerolinewidth": 2
          }
         }
        },
        "xaxis": {
         "autorange": true,
         "range": [
          -0.5,
          23.5
         ],
         "title": {
          "text": "mainzones"
         },
         "type": "category"
        },
        "yaxis": {
         "autorange": true,
         "range": [
          0,
          103.4769896264089
         ],
         "title": {
          "text": "generation in mln tons"
         },
         "type": "linear"
        }
       }
      },
      "image/png": "[encoded data removed]",
      "text/html": [
       "<div>                            <div id=\"d6b65161-799a-4b87-bce4-fb6a21f8f0e3\" class=\"plotly-graph-div\" style=\"height:525px; width:100%;\"></div>            <script type=\"text/javascript\">                require([\"plotly\"], function(Plotly) {                    window.PLOTLYENV=window.PLOTLYENV || {};                                    if (document.getElementById(\"d6b65161-799a-4b87-bce4-fb6a21f8f0e3\")) {                    Plotly.newPlot(                        \"d6b65161-799a-4b87-bce4-fb6a21f8f0e3\",                        [{\"name\": \"Measured generation\", \"type\": \"bar\", \"x\": [\"Cherkaska\", \"Chernihivska\", \"Chernivetska\", \"Dnipropetrovska\", \"Donetska\", \"Ivano-Frankivska\", \"Kharkivska\", \"Khersonska\", \"Khmelnytska\", \"Kirovohradska\", \"Kyivska\", \"Luhanska\", \"Lvivska\", \"Mykolaivska\", \"Odeska\", \"Poltavska\", \"Rivnenska\", \"Sumska\", \"Ternopilska\", \"Vinnytska\", \"Volynska\", \"Zakarpatska\", \"Zaporizka\", \"Zhytomyrska\"], \"y\": [12.809761562550374, 10.40101338757132, 5.2049563777295935, 91.60045998436233, 45.27602687418845, 12.416437370293428, 43.01550555332314, 12.93679169425263, 17.771067199165724, 15.682634019920975, 47.587271289436636, 3.708108007952317, 20.500433939231026, 17.412397763540575, 30.589217885715854, 27.147014628854677, 14.377486051573545, 17.480848499838206, 11.61388850132241, 17.772336566414072, 4.971254735938271, 7.121489838332966, 22.481674868006092, 38.09665991106734]}, {\"name\": \"Predicted generation\", \"type\": \"bar\", \"x\": [\"Cherkaska\", \"Chernihivska\", \"Chernivetska\", \"Dnipropetrovska\", \"Donetska\", \"Ivano-Frankivska\", \"Kharkivska\", \"Khersonska\", \"Khmelnytska\", \"Kirovohradska\", \"Kyivska\", \"Luhanska\", \"Lvivska\", \"Mykolaivska\", \"Odeska\", \"Poltavska\", \"Rivnenska\", \"Sumska\", \"Ternopilska\", \"Vinnytska\", \"Volynska\", \"Zakarpatska\", \"Zaporizka\", \"Zhytomyrska\"], \"y\": [11.859213849706261, 7.168688555446737, 9.81203190477314, 98.30314014508845, 42.949753631142045, 11.566367914289852, 47.99724720310802, 10.913175911490626, 19.21280075811713, 16.70771626414049, 47.36057820804359, 5.894758347223892, 20.685380003403885, 17.479313295589225, 29.232349637195437, 26.51136814762111, 14.285929323444474, 13.820827025177262, 13.007504577407296, 21.514293444563194, 12.115266834054069, 5.960980106719388, 26.251646576159445, 21.85093701994393]}],                        {\"barmode\": \"group\", \"template\": {\"data\": {\"bar\": [{\"error_x\": {\"color\": \"#2a3f5f\"}, \"error_y\": {\"color\": \"#2a3f5f\"}, \"marker\": {\"line\": {\"color\": \"#E5ECF6\", \"width\": 0.5}}, \"type\": \"bar\"}], \"barpolar\": [{\"marker\": {\"line\": {\"color\": \"#E5ECF6\", \"width\": 0.5}}, \"type\": \"barpolar\"}], \"carpet\": [{\"aaxis\": {\"endlinecolor\": \"#2a3f5f\", \"gridcolor\": \"white\", \"linecolor\": \"white\", \"minorgridcolor\": \"white\", \"startlinecolor\": \"#2a3f5f\"}, \"baxis\": {\"endlinecolor\": \"#2a3f5f\", \"gridcolor\": \"white\", \"linecolor\": \"white\", \"minorgridcolor\": \"white\", \"startlinecolor\": \"#2a3f5f\"}, \"type\": \"carpet\"}], \"choropleth\": [{\"colorbar\": {\"outlinewidth\": 0, \"ticks\": \"\"}, \"type\": \"choropleth\"}], \"contour\": [{\"colorbar\": {\"outlinewidth\": 0, \"ticks\": \"\"}, \"colorscale\": [[0.0, \"#0d0887\"], [0.1111111111111111, \"#46039f\"], [0.2222222222222222, \"#7201a8\"], [0.3333333333333333, \"#9c179e\"], [0.4444444444444444, \"#bd3786\"], [0.5555555555555556, \"#d8576b\"], [0.6666666666666666, \"#ed7953\"], [0.7777777777777778, \"#fb9f3a\"], [0.8888888888888888, \"#fdca26\"], [1.0, \"#f0f921\"]], \"type\": \"contour\"}], \"contourcarpet\": [{\"colorbar\": {\"outlinewidth\": 0, \"ticks\": \"\"}, \"type\": \"contourcarpet\"}], \"heatmap\": [{\"colorbar\": {\"outlinewidth\": 0, \"ticks\": \"\"}, \"colorscale\": [[0.0, \"#0d0887\"], [0.1111111111111111, \"#46039f\"], [0.2222222222222222, \"#7201a8\"], [0.3333333333333333, \"#9c179e\"], [0.4444444444444444, \"#bd3786\"], [0.5555555555555556, \"#d8576b\"], [0.6666666666666666, \"#ed7953\"], [0.7777777777777778, \"#fb9f3a\"], [0.8888888888888888, \"#fdca26\"], [1.0, \"#f0f921\"]], \"type\": \"heatmap\"}], \"heatmapgl\": [{\"colorbar\": {\"outlinewidth\": 0, \"ticks\": \"\"}, \"colorscale\": [[0.0, \"#0d0887\"], [0.1111111111111111, \"#46039f\"], [0.2222222222222222, \"#7201a8\"], [0.3333333333333333, \"#9c179e\"], [0.4444444444444444, \"#bd3786\"], [0.5555555555555556, \"#d8576b\"], [0.6666666666666666, \"#ed7953\"], [0.7777777777777778, \"#fb9f3a\"], [0.8888888888888888, \"#fdca26\"], [1.0, \"#f0f921\"]], \"type\": \"heatmapgl\"}], \"histogram\": [{\"marker\": {\"colorbar\": {\"outlinewidth\": 0, \"ticks\": \"\"}}, \"type\": \"histogram\"}], \"histogram2d\": [{\"colorbar\": {\"outlinewidth\": 0, \"ticks\": \"\"}, \"colorscale\": [[0.0, \"#0d0887\"], [0.1111111111111111, \"#46039f\"], [0.2222222222222222, \"#7201a8\"], [0.3333333333333333, \"#9c179e\"], [0.4444444444444444, \"#bd3786\"], [0.5555555555555556, \"#d8576b\"], [0.6666666666666666, \"#ed7953\"], [0.7777777777777778, \"#fb9f3a\"], [0.8888888888888888, \"#fdca26\"], [1.0, \"#f0f921\"]], \"type\": \"histogram2d\"}], \"histogram2dcontour\": [{\"colorbar\": {\"outlinewidth\": 0, \"ticks\": \"\"}, \"colorscale\": [[0.0, \"#0d0887\"], [0.1111111111111111, \"#46039f\"], [0.2222222222222222, \"#7201a8\"], [0.3333333333333333, \"#9c179e\"], [0.4444444444444444, \"#bd3786\"], [0.5555555555555556, \"#d8576b\"], [0.6666666666666666, \"#ed7953\"], [0.7777777777777778, \"#fb9f3a\"], [0.8888888888888888, \"#fdca26\"], [1.0, \"#f0f921\"]], \"type\": \"histogram2dcontour\"}], \"mesh3d\": [{\"colorbar\": {\"outlinewidth\": 0, \"ticks\": \"\"}, \"type\": \"mesh3d\"}], \"parcoords\": [{\"line\": {\"colorbar\": {\"outlinewidth\": 0, \"ticks\": \"\"}}, \"type\": \"parcoords\"}], \"pie\": [{\"automargin\": true, \"type\": \"pie\"}], \"scatter\": [{\"marker\": {\"colorbar\": {\"outlinewidth\": 0, \"ticks\": \"\"}}, \"type\": \"scatter\"}], \"scatter3d\": [{\"line\": {\"colorbar\": {\"outlinewidth\": 0, \"ticks\": \"\"}}, \"marker\": {\"colorbar\": {\"outlinewidth\": 0, \"ticks\": \"\"}}, \"type\": \"scatter3d\"}], \"scattercarpet\": [{\"marker\": {\"colorbar\": {\"outlinewidth\": 0, \"ticks\": \"\"}}, \"type\": \"scattercarpet\"}], \"scattergeo\": [{\"marker\": {\"colorbar\": {\"outlinewidth\": 0, \"ticks\": \"\"}}, \"type\": \"scattergeo\"}], \"scattergl\": [{\"marker\": {\"colorbar\": {\"outlinewidth\": 0, \"ticks\": \"\"}}, \"type\": \"scattergl\"}], \"scattermapbox\": [{\"marker\": {\"colorbar\": {\"outlinewidth\": 0, \"ticks\": \"\"}}, \"type\": \"scattermapbox\"}], \"scatterpolar\": [{\"marker\": {\"colorbar\": {\"outlinewidth\": 0, \"ticks\": \"\"}}, \"type\": \"scatterpolar\"}], \"scatterpolargl\": [{\"marker\": {\"colorbar\": {\"outlinewidth\": 0, \"ticks\": \"\"}}, \"type\": \"scatterpolargl\"}], \"scatterternary\": [{\"marker\": {\"colorbar\": {\"outlinewidth\": 0, \"ticks\": \"\"}}, \"type\": \"scatterternary\"}], \"surface\": [{\"colorbar\": {\"outlinewidth\": 0, \"ticks\": \"\"}, \"colorscale\": [[0.0, \"#0d0887\"], [0.1111111111111111, \"#46039f\"], [0.2222222222222222, \"#7201a8\"], [0.3333333333333333, \"#9c179e\"], [0.4444444444444444, \"#bd3786\"], [0.5555555555555556, \"#d8576b\"], [0.6666666666666666, \"#ed7953\"], [0.7777777777777778, \"#fb9f3a\"], [0.8888888888888888, \"#fdca26\"], [1.0, \"#f0f921\"]], \"type\": \"surface\"}], \"table\": [{\"cells\": {\"fill\": {\"color\": \"#EBF0F8\"}, \"line\": {\"color\": \"white\"}}, \"header\": {\"fill\": {\"color\": \"#C8D4E3\"}, \"line\": {\"color\": \"white\"}}, \"type\": \"table\"}]}, \"layout\": {\"annotationdefaults\": {\"arrowcolor\": \"#2a3f5f\", \"arrowhead\": 0, \"arrowwidth\": 1}, \"coloraxis\": {\"colorbar\": {\"outlinewidth\": 0, \"ticks\": \"\"}}, \"colorscale\": {\"diverging\": [[0, \"#8e0152\"], [0.1, \"#c51b7d\"], [0.2, \"#de77ae\"], [0.3, \"#f1b6da\"], [0.4, \"#fde0ef\"], [0.5, \"#f7f7f7\"], [0.6, \"#e6f5d0\"], [0.7, \"#b8e186\"], [0.8, \"#7fbc41\"], [0.9, \"#4d9221\"], [1, \"#276419\"]], \"sequential\": [[0.0, \"#0d0887\"], [0.1111111111111111, \"#46039f\"], [0.2222222222222222, \"#7201a8\"], [0.3333333333333333, \"#9c179e\"], [0.4444444444444444, \"#bd3786\"], [0.5555555555555556, \"#d8576b\"], [0.6666666666666666, \"#ed7953\"], [0.7777777777777778, \"#fb9f3a\"], [0.8888888888888888, \"#fdca26\"], [1.0, \"#f0f921\"]], \"sequentialminus\": [[0.0, \"#0d0887\"], [0.1111111111111111, \"#46039f\"], [0.2222222222222222, \"#7201a8\"], [0.3333333333333333, \"#9c179e\"], [0.4444444444444444, \"#bd3786\"], [0.5555555555555556, \"#d8576b\"], [0.6666666666666666, \"#ed7953\"], [0.7777777777777778, \"#fb9f3a\"], [0.8888888888888888, \"#fdca26\"], [1.0, \"#f0f921\"]]}, \"colorway\": [\"#636efa\", \"#EF553B\", \"#00cc96\", \"#ab63fa\", \"#FFA15A\", \"#19d3f3\", \"#FF6692\", \"#B6E880\", \"#FF97FF\", \"#FECB52\"], \"font\": {\"color\": \"#2a3f5f\"}, \"geo\": {\"bgcolor\": \"white\", \"lakecolor\": \"white\", \"landcolor\": \"#E5ECF6\", \"showlakes\": true, \"showland\": true, \"subunitcolor\": \"white\"}, \"hoverlabel\": {\"align\": \"left\"}, \"hovermode\": \"closest\", \"mapbox\": {\"style\": \"light\"}, \"paper_bgcolor\": \"white\", \"plot_bgcolor\": \"#E5ECF6\", \"polar\": {\"angularaxis\": {\"gridcolor\": \"white\", \"linecolor\": \"white\", \"ticks\": \"\"}, \"bgcolor\": \"#E5ECF6\", \"radialaxis\": {\"gridcolor\": \"white\", \"linecolor\": \"white\", \"ticks\": \"\"}}, \"scene\": {\"xaxis\": {\"backgroundcolor\": \"#E5ECF6\", \"gridcolor\": \"white\", \"gridwidth\": 2, \"linecolor\": \"white\", \"showbackground\": true, \"ticks\": \"\", \"zerolinecolor\": \"white\"}, \"yaxis\": {\"backgroundcolor\": \"#E5ECF6\", \"gridcolor\": \"white\", \"gridwidth\": 2, \"linecolor\": \"white\", \"showbackground\": true, \"ticks\": \"\", \"zerolinecolor\": \"white\"}, \"zaxis\": {\"backgroundcolor\": \"#E5ECF6\", \"gridcolor\": \"white\", \"gridwidth\": 2, \"linecolor\": \"white\", \"showbackground\": true, \"ticks\": \"\", \"zerolinecolor\": \"white\"}}, \"shapedefaults\": {\"line\": {\"color\": \"#2a3f5f\"}}, \"ternary\": {\"aaxis\": {\"gridcolor\": \"white\", \"linecolor\": \"white\", \"ticks\": \"\"}, \"baxis\": {\"gridcolor\": \"white\", \"linecolor\": \"white\", \"ticks\": \"\"}, \"bgcolor\": \"#E5ECF6\", \"caxis\": {\"gridcolor\": \"white\", \"linecolor\": \"white\", \"ticks\": \"\"}}, \"title\": {\"x\": 0.05}, \"xaxis\": {\"automargin\": true, \"gridcolor\": \"white\", \"linecolor\": \"white\", \"ticks\": \"\", \"title\": {\"standoff\": 15}, \"zerolinecolor\": \"white\", \"zerolinewidth\": 2}, \"yaxis\": {\"automargin\": true, \"gridcolor\": \"white\", \"linecolor\": \"white\", \"ticks\": \"\", \"title\": {\"standoff\": 15}, \"zerolinecolor\": \"white\", \"zerolinewidth\": 2}}}, \"xaxis\": {\"title\": {\"text\": \"mainzones\"}}, \"yaxis\": {\"title\": {\"text\": \"generation in mln tons\"}}},                        {\"responsive\": true}                    ).then(function(){\n",
       "                            \n",
       "var gd = document.getElementById('d6b65161-799a-4b87-bce4-fb6a21f8f0e3');\n",
       "var x = new MutationObserver(function (mutations, observer) {{\n",
       "        var display = window.getComputedStyle(gd).display;\n",
       "        if (!display || display === 'none') {{\n",
       "            console.log([gd, 'removed!']);\n",
       "            Plotly.purge(gd);\n",
       "            observer.disconnect();\n",
       "        }}\n",
       "}});\n",
       "\n",
       "// Listen for the removal of the full notebook cells\n",
       "var notebookContainer = gd.closest('#notebook-container');\n",
       "if (notebookContainer) {{\n",
       "    x.observe(notebookContainer, {childList: true});\n",
       "}}\n",
       "\n",
       "// Listen for the clearing of the current output cell\n",
       "var outputEl = gd.closest('.output');\n",
       "if (outputEl) {{\n",
       "    x.observe(outputEl, {childList: true});\n",
       "}}\n",
       "\n",
       "                        })                };                });            </script>        </div>"
      ]
     },
     "metadata": {},
     "output_type": "display_data"
    }
   ],
   "source": [
    "histogram = go.Figure(\n",
    "            data=[ go.Bar(name='Measured generation',x=df['oblast'], y=df['Measured']),\n",
    "                  go.Bar(name='Predicted generation',x=df['oblast'], y=df['Predicted'])])\n",
    "histogram.update_layout(barmode='group',\n",
    "    xaxis_title_text = 'mainzones', # xaxis label\n",
    "    yaxis_title_text = 'generation in mln tons', # yaxis label                   \n",
    "    )\n",
    "histogram.show()"
   ]
  },
  {
   "cell_type": "code",
   "execution_count": 1684,
   "metadata": {},
   "outputs": [
    {
     "data": {
      "text/plain": [
       "Text(0.5, 1.0, 'Correlation Heatmap')"
      ]
     },
     "execution_count": 1684,
     "metadata": {},
     "output_type": "execute_result"
    },
    {
     "data": {
      "image/png": "[encoded data removed]",
      "text/plain": [
       "<Figure size 1440x1440 with 2 Axes>"
      ]
     },
     "metadata": {
      "needs_background": "light"
     },
     "output_type": "display_data"
    }
   ],
   "source": [
    "new_x = x.drop(columns =['oblast'])\n",
    "\n",
    "df2 = pd.concat( [df[['Predicted', 'Measured']], new_x], axis = 1)\n",
    "\n",
    "plt.figure(figsize = (20,20))\n",
    "\n",
    "heatmap = sns.heatmap(df2.corr(), vmin=-1, vmax=1, annot=True)\n",
    "heatmap.set_title('Correlation Heatmap', fontdict={'fontsize':20}, pad=12)"
   ]
  },
  {
   "cell_type": "code",
   "execution_count": null,
   "metadata": {},
   "outputs": [],
   "source": []
  }
 ],
 "metadata": {
  "kernelspec": {
   "display_name": "Python 3",
   "language": "python",
   "name": "python3"
  },
  "language_info": {
   "codemirror_mode": {
    "name": "ipython",
    "version": 3
   },
   "file_extension": ".py",
   "mimetype": "text/x-python",
   "name": "python",
   "nbconvert_exporter": "python",
   "pygments_lexer": "ipython3",
   "version": "3.7.3"
  }
 },
 "nbformat": 4,
 "nbformat_minor": 4
}
